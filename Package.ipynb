{
 "cells": [
  {
   "cell_type": "markdown",
   "id": "ad2d2fa7",
   "metadata": {},
   "source": [
    "# Numpy: Package for Multidimensional array"
   ]
  },
  {
   "cell_type": "markdown",
   "id": "01306974",
   "metadata": {},
   "source": [
    "## create an array"
   ]
  },
  {
   "cell_type": "code",
   "execution_count": 2,
   "id": "4841ed5f",
   "metadata": {},
   "outputs": [],
   "source": [
    "import numpy as np"
   ]
  },
  {
   "cell_type": "code",
   "execution_count": 42,
   "id": "c1827fbe",
   "metadata": {},
   "outputs": [
    {
     "data": {
      "text/plain": [
       "array([1, 2, 3, 5, 8, 9, 6, 4, 6, 2, 5, 6, 1])"
      ]
     },
     "execution_count": 42,
     "metadata": {},
     "output_type": "execute_result"
    }
   ],
   "source": [
    "sample_list =[1,2,3,5,8,9,6,4,6,2,5,6,1]\n",
    "np.array(sample_list)"
   ]
  },
  {
   "cell_type": "code",
   "execution_count": 41,
   "id": "c00c94f5",
   "metadata": {},
   "outputs": [
    {
     "data": {
      "text/plain": [
       "array([1, 2, 3, 5, 8, 9, 6, 4, 6, 2, 5, 6, 1])"
      ]
     },
     "execution_count": 41,
     "metadata": {},
     "output_type": "execute_result"
    }
   ],
   "source": [
    "arr=np.array(sample_list)\n",
    "arr"
   ]
  },
  {
   "cell_type": "code",
   "execution_count": 5,
   "id": "6034d9f6",
   "metadata": {},
   "outputs": [
    {
     "name": "stdout",
     "output_type": "stream",
     "text": [
      "[3 5 8 9]\n"
     ]
    }
   ],
   "source": [
    "print(arr[2:6])             #print(arr[index1:index2])"
   ]
  },
  {
   "cell_type": "code",
   "execution_count": 6,
   "id": "72bcaf69",
   "metadata": {},
   "outputs": [
    {
     "data": {
      "text/plain": [
       "array([[ 4,  5,  6],\n",
       "       [ 7,  8,  9],\n",
       "       [10, 11, 12]])"
      ]
     },
     "execution_count": 6,
     "metadata": {},
     "output_type": "execute_result"
    }
   ],
   "source": [
    "multi_list =[4,5,6],[7,8,9],[10,11,12]\n",
    "np.array(multi_list)"
   ]
  },
  {
   "cell_type": "code",
   "execution_count": 7,
   "id": "10e48b1f",
   "metadata": {},
   "outputs": [
    {
     "data": {
      "text/plain": [
       "array([[ 4,  5,  6],\n",
       "       [ 7,  8,  9],\n",
       "       [10, 11, 12]])"
      ]
     },
     "execution_count": 7,
     "metadata": {},
     "output_type": "execute_result"
    }
   ],
   "source": [
    "arr1=np.array(multi_list)\n",
    "arr1"
   ]
  },
  {
   "cell_type": "code",
   "execution_count": 8,
   "id": "04ac21b8",
   "metadata": {},
   "outputs": [
    {
     "data": {
      "text/plain": [
       "array([100, 101, 102, 103, 104, 105, 106, 107, 108, 109])"
      ]
     },
     "execution_count": 8,
     "metadata": {},
     "output_type": "execute_result"
    }
   ],
   "source": [
    "np.arange(100,110)     #starts with 100 and end with (number-1) i.e 110-1=109"
   ]
  },
  {
   "cell_type": "code",
   "execution_count": 46,
   "id": "4c321340",
   "metadata": {},
   "outputs": [
    {
     "data": {
      "text/plain": [
       "array([10, 18, 26, 34, 42, 50, 58, 66, 74, 82])"
      ]
     },
     "execution_count": 46,
     "metadata": {},
     "output_type": "execute_result"
    }
   ],
   "source": [
    "np.arange(10,90,8)    #(start number ,end number , difference(10,10+8,10+8+8....)) "
   ]
  },
  {
   "cell_type": "code",
   "execution_count": 10,
   "id": "cee03b3b",
   "metadata": {},
   "outputs": [
    {
     "data": {
      "text/plain": [
       "array([0., 0., 0., 0., 0., 0., 0., 0., 0., 0.])"
      ]
     },
     "execution_count": 10,
     "metadata": {},
     "output_type": "execute_result"
    }
   ],
   "source": [
    "np.zeros(10)"
   ]
  },
  {
   "cell_type": "code",
   "execution_count": 11,
   "id": "545e9fcf",
   "metadata": {},
   "outputs": [
    {
     "data": {
      "text/plain": [
       "array([0, 0, 0, 0, 0, 0, 0, 0, 0, 0])"
      ]
     },
     "execution_count": 11,
     "metadata": {},
     "output_type": "execute_result"
    }
   ],
   "source": [
    "np.zeros(10,dtype=int)     #dtype=int makes float into int"
   ]
  },
  {
   "cell_type": "code",
   "execution_count": 12,
   "id": "0bdab2ae",
   "metadata": {},
   "outputs": [
    {
     "data": {
      "text/plain": [
       "array([1., 1., 1., 1., 1.])"
      ]
     },
     "execution_count": 12,
     "metadata": {},
     "output_type": "execute_result"
    }
   ],
   "source": [
    "np.ones(5)"
   ]
  },
  {
   "cell_type": "code",
   "execution_count": 13,
   "id": "001aaf7e",
   "metadata": {},
   "outputs": [
    {
     "data": {
      "text/plain": [
       "array([1, 1, 1, 1, 1])"
      ]
     },
     "execution_count": 13,
     "metadata": {},
     "output_type": "execute_result"
    }
   ],
   "source": [
    "np.ones(5,dtype=int)     #dtype=int makes float into int"
   ]
  },
  {
   "cell_type": "code",
   "execution_count": 14,
   "id": "936b5e27",
   "metadata": {},
   "outputs": [],
   "source": [
    "a=np.ones((2,5))         #((no.of list,no. of repeatation))"
   ]
  },
  {
   "cell_type": "code",
   "execution_count": 15,
   "id": "584f570d",
   "metadata": {},
   "outputs": [
    {
     "data": {
      "text/plain": [
       "array([[1, 1, 1, 1, 1],\n",
       "       [1, 1, 1, 1, 1]])"
      ]
     },
     "execution_count": 15,
     "metadata": {},
     "output_type": "execute_result"
    }
   ],
   "source": [
    "np.ones((2,5),dtype=int)      #dtype=int makes float into int"
   ]
  },
  {
   "cell_type": "code",
   "execution_count": 16,
   "id": "aeef963a",
   "metadata": {},
   "outputs": [
    {
     "name": "stdout",
     "output_type": "stream",
     "text": [
      "[[1 1 1 1 1]\n",
      " [1 1 1 1 1]] [[0 0 0 0]\n",
      " [0 0 0 0]\n",
      " [0 0 0 0]]\n"
     ]
    }
   ],
   "source": [
    "a=np.ones((2,5),dtype=int)         \n",
    "b=np.zeros((3,4),dtype=int)\n",
    "print(a,b)"
   ]
  },
  {
   "cell_type": "code",
   "execution_count": 17,
   "id": "f55679b5",
   "metadata": {},
   "outputs": [
    {
     "data": {
      "text/plain": [
       "array([0.  , 0.25, 0.5 , 0.75, 1.  ])"
      ]
     },
     "execution_count": 17,
     "metadata": {},
     "output_type": "execute_result"
    }
   ],
   "source": [
    "np.linspace(0,1,5)     #it divide 0 to 1 into 5 parts including 0 and 1"
   ]
  },
  {
   "cell_type": "code",
   "execution_count": 48,
   "id": "2fa576b7",
   "metadata": {},
   "outputs": [
    {
     "data": {
      "text/plain": [
       "array([ 0,  0,  1,  1,  2,  2,  3,  3,  4,  4,  5,  5,  6,  6,  7,  7,  8,\n",
       "        8,  9, 10])"
      ]
     },
     "execution_count": 48,
     "metadata": {},
     "output_type": "execute_result"
    }
   ],
   "source": [
    "np.linspace(0,10,20,dtype=int)    #dtype=int makes a restriction of every numeric value to be int so the float values appear to be coming in int form"
   ]
  },
  {
   "cell_type": "code",
   "execution_count": 19,
   "id": "dfe1b123",
   "metadata": {},
   "outputs": [
    {
     "data": {
      "text/plain": [
       "array([[1, 0, 0, 0, 0],\n",
       "       [0, 1, 0, 0, 0],\n",
       "       [0, 0, 1, 0, 0],\n",
       "       [0, 0, 0, 1, 0],\n",
       "       [0, 0, 0, 0, 1]])"
      ]
     },
     "execution_count": 19,
     "metadata": {},
     "output_type": "execute_result"
    }
   ],
   "source": [
    "np.eye(5,dtype=int)       "
   ]
  },
  {
   "cell_type": "code",
   "execution_count": 20,
   "id": "ac7f515e",
   "metadata": {
    "scrolled": true
   },
   "outputs": [
    {
     "data": {
      "text/plain": [
       "array([[1, 0, 0, 0, 0, 0, 0, 0, 0, 0],\n",
       "       [0, 1, 0, 0, 0, 0, 0, 0, 0, 0],\n",
       "       [0, 0, 1, 0, 0, 0, 0, 0, 0, 0],\n",
       "       [0, 0, 0, 1, 0, 0, 0, 0, 0, 0],\n",
       "       [0, 0, 0, 0, 1, 0, 0, 0, 0, 0],\n",
       "       [0, 0, 0, 0, 0, 1, 0, 0, 0, 0]])"
      ]
     },
     "execution_count": 20,
     "metadata": {},
     "output_type": "execute_result"
    }
   ],
   "source": [
    "np.eye(6,10,dtype=int)         #(6,10)-->(6 no of list/rows of list,list of 10 values)"
   ]
  },
  {
   "cell_type": "code",
   "execution_count": 95,
   "id": "f3b9e72c",
   "metadata": {},
   "outputs": [
    {
     "data": {
      "text/plain": [
       "array([[0.70246108, 0.42842323, 0.49548795, 0.22506196, 0.25084293],\n",
       "       [0.40664432, 0.94082203, 0.82387503, 0.96004579, 0.04325514]])"
      ]
     },
     "execution_count": 95,
     "metadata": {},
     "output_type": "execute_result"
    }
   ],
   "source": [
    "np.random.rand(2,5)           #(2,4)->(no. of list,no. of element in the list)"
   ]
  },
  {
   "cell_type": "code",
   "execution_count": 22,
   "id": "bb609f00",
   "metadata": {},
   "outputs": [
    {
     "data": {
      "text/plain": [
       "array([[ 0.44899264, -0.95302831,  0.50022225, -0.10503055, -0.76607732],\n",
       "       [-0.35189617,  0.81899348,  0.066062  ,  0.11756413, -0.62926734]])"
      ]
     },
     "execution_count": 22,
     "metadata": {},
     "output_type": "execute_result"
    }
   ],
   "source": [
    "np.random.randn(2,5)           #(2,4)->(no. of list,no. of element in the list)"
   ]
  },
  {
   "cell_type": "code",
   "execution_count": 28,
   "id": "8ce651bb",
   "metadata": {},
   "outputs": [
    {
     "data": {
      "text/plain": [
       "array([6, 1, 0, 0, 4, 8, 5, 7, 3, 5, 2, 2, 2, 8, 4, 9, 2, 8, 5, 5])"
      ]
     },
     "execution_count": 28,
     "metadata": {},
     "output_type": "execute_result"
    }
   ],
   "source": [
    "np.random.randint(0,10,20,dtype=int)      #(start,end,number of elements in the list)"
   ]
  },
  {
   "cell_type": "code",
   "execution_count": 29,
   "id": "6d48e739",
   "metadata": {},
   "outputs": [
    {
     "data": {
      "text/plain": [
       "array([1, 2, 3, 5, 8, 9, 6, 4, 6, 2, 5, 6, 1])"
      ]
     },
     "execution_count": 29,
     "metadata": {},
     "output_type": "execute_result"
    }
   ],
   "source": [
    "arr"
   ]
  },
  {
   "cell_type": "code",
   "execution_count": 82,
   "id": "6039b46d",
   "metadata": {},
   "outputs": [
    {
     "name": "stdout",
     "output_type": "stream",
     "text": [
      "5 , 14\n"
     ]
    }
   ],
   "source": [
    "ar=np.random.randint(5,15,10)\n",
    "v=ar.min()\n",
    "u=ar.max()\n",
    "print(v,\",\",u)"
   ]
  },
  {
   "cell_type": "code",
   "execution_count": 83,
   "id": "20cade7a",
   "metadata": {},
   "outputs": [
    {
     "data": {
      "text/plain": [
       "array([ 6,  8, 11, 11,  9, 14,  7,  5, 12,  8])"
      ]
     },
     "execution_count": 83,
     "metadata": {},
     "output_type": "execute_result"
    }
   ],
   "source": [
    "ar"
   ]
  },
  {
   "cell_type": "code",
   "execution_count": 85,
   "id": "67a1595d",
   "metadata": {},
   "outputs": [
    {
     "data": {
      "text/plain": [
       "7"
      ]
     },
     "execution_count": 85,
     "metadata": {},
     "output_type": "execute_result"
    }
   ],
   "source": [
    "ar.argmin()"
   ]
  },
  {
   "cell_type": "code",
   "execution_count": 75,
   "id": "d79b4980",
   "metadata": {},
   "outputs": [
    {
     "data": {
      "text/plain": [
       "[1, 5, 65, 2, 4, 1, 458, 0, 4, 48, 123, 1, 4, 6, 5, 9, 6, 5]"
      ]
     },
     "execution_count": 75,
     "metadata": {},
     "output_type": "execute_result"
    }
   ],
   "source": [
    "ar1=[1,5,65,2,4,1,458,0,4,48,123,1,4,6,5,9,6,5]\n",
    "ar1"
   ]
  },
  {
   "cell_type": "code",
   "execution_count": 76,
   "id": "918ec36a",
   "metadata": {},
   "outputs": [
    {
     "data": {
      "text/plain": [
       "7"
      ]
     },
     "execution_count": 76,
     "metadata": {},
     "output_type": "execute_result"
    }
   ],
   "source": [
    "ar2=np.array(ar1)\n",
    "ar2.argmin()"
   ]
  },
  {
   "cell_type": "code",
   "execution_count": 87,
   "id": "a0ce2552",
   "metadata": {},
   "outputs": [
    {
     "data": {
      "text/plain": [
       "array([  1,   5,  65,   2,   4,   1, 458,   0,   4,  48, 123,   1,   4,\n",
       "         6,   5,   9,   6,   5])"
      ]
     },
     "execution_count": 87,
     "metadata": {},
     "output_type": "execute_result"
    }
   ],
   "source": [
    "ar2"
   ]
  },
  {
   "cell_type": "code",
   "execution_count": 120,
   "id": "230ffcf7",
   "metadata": {},
   "outputs": [
    {
     "data": {
      "text/plain": [
       "array([[[0.38794856, 0.55310997, 0.28475951, 0.09202473]],\n",
       "\n",
       "       [[0.82704095, 0.89814024, 0.61804865, 0.83517712]],\n",
       "\n",
       "       [[0.53470504, 0.91800106, 0.63632176, 0.31349107]]])"
      ]
     },
     "execution_count": 120,
     "metadata": {},
     "output_type": "execute_result"
    }
   ],
   "source": [
    "am=np.random.rand(3,1,4)\n",
    "am"
   ]
  },
  {
   "cell_type": "code",
   "execution_count": 121,
   "id": "774ed6f0",
   "metadata": {},
   "outputs": [
    {
     "data": {
      "text/plain": [
       "array([[[0.38794856, 0.82704095, 0.53470504]],\n",
       "\n",
       "       [[0.55310997, 0.89814024, 0.91800106]],\n",
       "\n",
       "       [[0.28475951, 0.61804865, 0.63632176]],\n",
       "\n",
       "       [[0.09202473, 0.83517712, 0.31349107]]])"
      ]
     },
     "execution_count": 121,
     "metadata": {},
     "output_type": "execute_result"
    }
   ],
   "source": [
    "am.T           # .T  --> transpose"
   ]
  },
  {
   "cell_type": "code",
   "execution_count": 125,
   "id": "3457ccd6",
   "metadata": {},
   "outputs": [
    {
     "data": {
      "text/plain": [
       "array([[0.38794856, 0.55310997, 0.28475951, 0.09202473],\n",
       "       [0.82704095, 0.89814024, 0.61804865, 0.83517712],\n",
       "       [0.53470504, 0.91800106, 0.63632176, 0.31349107]])"
      ]
     },
     "execution_count": 125,
     "metadata": {},
     "output_type": "execute_result"
    }
   ],
   "source": [
    "an=am.reshape(3,4)\n",
    "an                                                     #it  rearrange the matric (nxm)"
   ]
  },
  {
   "cell_type": "code",
   "execution_count": 127,
   "id": "66fc5ca9",
   "metadata": {},
   "outputs": [
    {
     "data": {
      "text/plain": [
       "array([ 0,  1,  2,  3,  4,  5,  6,  7,  8,  9, 10, 11, 12, 13, 14, 15, 16,\n",
       "       17, 18, 19, 20, 21, 22, 23, 24, 25, 26, 27, 28, 29, 30, 31, 32, 33,\n",
       "       34, 35, 36, 37, 38, 39, 40, 41, 42, 43, 44, 45, 46, 47, 48, 49, 50,\n",
       "       51, 52, 53, 54, 55, 56, 57, 58, 59, 60, 61, 62, 63, 64, 65, 66, 67,\n",
       "       68, 69, 70, 71, 72, 73, 74, 75, 76, 77, 78, 79, 80, 81, 82, 83, 84,\n",
       "       85, 86, 87, 88, 89, 90, 91, 92, 93, 94, 95, 96, 97, 98, 99])"
      ]
     },
     "execution_count": 127,
     "metadata": {},
     "output_type": "execute_result"
    }
   ],
   "source": [
    "abc=np.arange(0,100)\n",
    "abc"
   ]
  },
  {
   "cell_type": "code",
   "execution_count": 129,
   "id": "624ce3e9",
   "metadata": {},
   "outputs": [
    {
     "data": {
      "text/plain": [
       "array([      0, 1000000, 1000000, 1000000, 1000000,       5,       6,\n",
       "             7,       8,       9,      10,      11,      12,      13,\n",
       "            14,      15,      16,      17,      18,      19,      20,\n",
       "            21,      22,      23,      24,      25,      26,      27,\n",
       "            28,      29,      30,      31,      32,      33,      34,\n",
       "            35,      36,      37,      38,      39,      40,      41,\n",
       "            42,      43,      44,      45,      46,      47,      48,\n",
       "            49,      50,      51,      52,      53,      54,      55,\n",
       "            56,      57,      58,      59,      60,      61,      62,\n",
       "            63,      64,      65,      66,      67,      68,      69,\n",
       "            70,      71,      72,      73,      74,      75,      76,\n",
       "            77,      78,      79,      80,      81,      82,      83,\n",
       "            84,      85,      86,      87,      88,      89,      90,\n",
       "            91,      92,      93,      94,      95,      96,      97,\n",
       "            98,      99])"
      ]
     },
     "execution_count": 129,
     "metadata": {},
     "output_type": "execute_result"
    }
   ],
   "source": [
    "abc[1:5]=1000000\n",
    "abc"
   ]
  },
  {
   "cell_type": "markdown",
   "id": "e848c29d",
   "metadata": {},
   "source": [
    "## two dimensional array"
   ]
  },
  {
   "cell_type": "code",
   "execution_count": 130,
   "id": "5b74783f",
   "metadata": {},
   "outputs": [],
   "source": [
    "import numpy as np"
   ]
  },
  {
   "cell_type": "code",
   "execution_count": 131,
   "id": "15559ed0",
   "metadata": {},
   "outputs": [
    {
     "data": {
      "text/plain": [
       "array([[21, 51, 54, 15],\n",
       "       [15,  6,  8, 58],\n",
       "       [15, 28, 64, 95]])"
      ]
     },
     "execution_count": 131,
     "metadata": {},
     "output_type": "execute_result"
    }
   ],
   "source": [
    "sample=np.array([[21,51,54,15],[15,6,8,58],[15,28,64,95]])\n",
    "sample"
   ]
  },
  {
   "cell_type": "code",
   "execution_count": 134,
   "id": "1c61572f",
   "metadata": {},
   "outputs": [
    {
     "data": {
      "text/plain": [
       "28"
      ]
     },
     "execution_count": 134,
     "metadata": {},
     "output_type": "execute_result"
    }
   ],
   "source": [
    "sample[2][1]                #sample[index in row-wise][index in column-wise]"
   ]
  },
  {
   "cell_type": "code",
   "execution_count": 254,
   "id": "948b6f25",
   "metadata": {},
   "outputs": [
    {
     "data": {
      "text/plain": [
       "array([[54, 15],\n",
       "       [ 8, 58],\n",
       "       [64, 95]])"
      ]
     },
     "execution_count": 254,
     "metadata": {},
     "output_type": "execute_result"
    }
   ],
   "source": [
    "sample[0:,2:]              # [0:,2:] --> 0: from the index zero row and 2: from index 2nd column"
   ]
  },
  {
   "cell_type": "code",
   "execution_count": 146,
   "id": "e671f369",
   "metadata": {},
   "outputs": [
    {
     "data": {
      "text/plain": [
       "array([[58],\n",
       "       [95]])"
      ]
     },
     "execution_count": 146,
     "metadata": {},
     "output_type": "execute_result"
    }
   ],
   "source": [
    "sample[1:,3:]"
   ]
  },
  {
   "cell_type": "code",
   "execution_count": 151,
   "id": "d3f280cf",
   "metadata": {},
   "outputs": [
    {
     "data": {
      "text/plain": [
       "array([[51, 54],\n",
       "       [ 6,  8]])"
      ]
     },
     "execution_count": 151,
     "metadata": {},
     "output_type": "execute_result"
    }
   ],
   "source": [
    "sample[0:2,1:3]"
   ]
  },
  {
   "cell_type": "code",
   "execution_count": 162,
   "id": "a64ffaa7",
   "metadata": {},
   "outputs": [
    {
     "data": {
      "text/plain": [
       "array([ 0,  1,  2,  3,  4,  5,  6,  7,  8,  9, 10, 11, 12, 13, 14, 15, 16,\n",
       "       17, 18, 19, 20, 21, 22, 23, 24, 25, 26, 27, 28, 29, 30, 31, 32, 33,\n",
       "       34, 35, 36, 37, 38, 39, 40, 41, 42, 43, 44, 45, 46, 47, 48, 49, 50,\n",
       "       51, 52, 53, 54, 55, 56, 57, 58, 59, 60, 61, 62, 63, 64, 65, 66, 67,\n",
       "       68, 69, 70, 71, 72, 73, 74, 75, 76, 77, 78, 79, 80, 81, 82, 83, 84,\n",
       "       85, 86, 87, 88, 89, 90, 91, 92, 93, 94, 95, 96, 97, 98, 99])"
      ]
     },
     "execution_count": 162,
     "metadata": {},
     "output_type": "execute_result"
    }
   ],
   "source": [
    "sam=np.arange(0,100)\n",
    "sam"
   ]
  },
  {
   "cell_type": "code",
   "execution_count": 163,
   "id": "2ce360c7",
   "metadata": {},
   "outputs": [
    {
     "data": {
      "text/plain": [
       "0"
      ]
     },
     "execution_count": 163,
     "metadata": {},
     "output_type": "execute_result"
    }
   ],
   "source": [
    "sam.min()           #minimum"
   ]
  },
  {
   "cell_type": "code",
   "execution_count": 255,
   "id": "944f707d",
   "metadata": {},
   "outputs": [
    {
     "data": {
      "text/plain": [
       "99"
      ]
     },
     "execution_count": 255,
     "metadata": {},
     "output_type": "execute_result"
    }
   ],
   "source": [
    "sam.max()            #maximum"
   ]
  },
  {
   "cell_type": "code",
   "execution_count": 165,
   "id": "e988c3cc",
   "metadata": {},
   "outputs": [
    {
     "data": {
      "text/plain": [
       "0"
      ]
     },
     "execution_count": 165,
     "metadata": {},
     "output_type": "execute_result"
    }
   ],
   "source": [
    "sam.argmin()"
   ]
  },
  {
   "cell_type": "code",
   "execution_count": 166,
   "id": "46946079",
   "metadata": {},
   "outputs": [
    {
     "data": {
      "text/plain": [
       "99"
      ]
     },
     "execution_count": 166,
     "metadata": {},
     "output_type": "execute_result"
    }
   ],
   "source": [
    "sam.argmax()"
   ]
  },
  {
   "cell_type": "code",
   "execution_count": 170,
   "id": "b46bf21b",
   "metadata": {},
   "outputs": [
    {
     "data": {
      "text/plain": [
       "array([  0,   2,   4,   6,   8,  10,  12,  14,  16,  18,  20,  22,  24,\n",
       "        26,  28,  30,  32,  34,  36,  38,  40,  42,  44,  46,  48,  50,\n",
       "        52,  54,  56,  58,  60,  62,  64,  66,  68,  70,  72,  74,  76,\n",
       "        78,  80,  82,  84,  86,  88,  90,  92,  94,  96,  98, 100, 102,\n",
       "       104, 106, 108, 110, 112, 114, 116, 118, 120, 122, 124, 126, 128,\n",
       "       130, 132, 134, 136, 138, 140, 142, 144, 146, 148, 150, 152, 154,\n",
       "       156, 158, 160, 162, 164, 166, 168, 170, 172, 174, 176, 178, 180,\n",
       "       182, 184, 186, 188, 190, 192, 194, 196, 198])"
      ]
     },
     "execution_count": 170,
     "metadata": {},
     "output_type": "execute_result"
    }
   ],
   "source": [
    "sam+sam"
   ]
  },
  {
   "cell_type": "code",
   "execution_count": 171,
   "id": "e1bf5f35",
   "metadata": {},
   "outputs": [
    {
     "data": {
      "text/plain": [
       "array([0, 0, 0, 0, 0, 0, 0, 0, 0, 0, 0, 0, 0, 0, 0, 0, 0, 0, 0, 0, 0, 0,\n",
       "       0, 0, 0, 0, 0, 0, 0, 0, 0, 0, 0, 0, 0, 0, 0, 0, 0, 0, 0, 0, 0, 0,\n",
       "       0, 0, 0, 0, 0, 0, 0, 0, 0, 0, 0, 0, 0, 0, 0, 0, 0, 0, 0, 0, 0, 0,\n",
       "       0, 0, 0, 0, 0, 0, 0, 0, 0, 0, 0, 0, 0, 0, 0, 0, 0, 0, 0, 0, 0, 0,\n",
       "       0, 0, 0, 0, 0, 0, 0, 0, 0, 0, 0, 0])"
      ]
     },
     "execution_count": 171,
     "metadata": {},
     "output_type": "execute_result"
    }
   ],
   "source": [
    "sam-sam"
   ]
  },
  {
   "cell_type": "code",
   "execution_count": 174,
   "id": "02cde09b",
   "metadata": {},
   "outputs": [
    {
     "data": {
      "text/plain": [
       "array([   0,    1,    4,    9,   16,   25,   36,   49,   64,   81,  100,\n",
       "        121,  144,  169,  196,  225,  256,  289,  324,  361,  400,  441,\n",
       "        484,  529,  576,  625,  676,  729,  784,  841,  900,  961, 1024,\n",
       "       1089, 1156, 1225, 1296, 1369, 1444, 1521, 1600, 1681, 1764, 1849,\n",
       "       1936, 2025, 2116, 2209, 2304, 2401, 2500, 2601, 2704, 2809, 2916,\n",
       "       3025, 3136, 3249, 3364, 3481, 3600, 3721, 3844, 3969, 4096, 4225,\n",
       "       4356, 4489, 4624, 4761, 4900, 5041, 5184, 5329, 5476, 5625, 5776,\n",
       "       5929, 6084, 6241, 6400, 6561, 6724, 6889, 7056, 7225, 7396, 7569,\n",
       "       7744, 7921, 8100, 8281, 8464, 8649, 8836, 9025, 9216, 9409, 9604,\n",
       "       9801])"
      ]
     },
     "execution_count": 174,
     "metadata": {},
     "output_type": "execute_result"
    }
   ],
   "source": [
    "sam*sam"
   ]
  },
  {
   "cell_type": "code",
   "execution_count": 185,
   "id": "c8e40765",
   "metadata": {},
   "outputs": [
    {
     "name": "stderr",
     "output_type": "stream",
     "text": [
      "C:\\Users\\hp\\AppData\\Local\\Temp/ipykernel_13616/47703593.py:1: RuntimeWarning: invalid value encountered in true_divide\n",
      "  (sam/sam)\n"
     ]
    },
    {
     "data": {
      "text/plain": [
       "array([nan,  1.,  1.,  1.,  1.,  1.,  1.,  1.,  1.,  1.,  1.,  1.,  1.,\n",
       "        1.,  1.,  1.,  1.,  1.,  1.,  1.,  1.,  1.,  1.,  1.,  1.,  1.,\n",
       "        1.,  1.,  1.,  1.,  1.,  1.,  1.,  1.,  1.,  1.,  1.,  1.,  1.,\n",
       "        1.,  1.,  1.,  1.,  1.,  1.,  1.,  1.,  1.,  1.,  1.,  1.,  1.,\n",
       "        1.,  1.,  1.,  1.,  1.,  1.,  1.,  1.,  1.,  1.,  1.,  1.,  1.,\n",
       "        1.,  1.,  1.,  1.,  1.,  1.,  1.,  1.,  1.,  1.,  1.,  1.,  1.,\n",
       "        1.,  1.,  1.,  1.,  1.,  1.,  1.,  1.,  1.,  1.,  1.,  1.,  1.,\n",
       "        1.,  1.,  1.,  1.,  1.,  1.,  1.,  1.,  1.])"
      ]
     },
     "execution_count": 185,
     "metadata": {},
     "output_type": "execute_result"
    }
   ],
   "source": [
    "(sam/sam)"
   ]
  },
  {
   "cell_type": "code",
   "execution_count": 187,
   "id": "4c2257ea",
   "metadata": {},
   "outputs": [
    {
     "data": {
      "text/plain": [
       "array([1.00000000e+00, 2.71828183e+00, 7.38905610e+00, 2.00855369e+01,\n",
       "       5.45981500e+01, 1.48413159e+02, 4.03428793e+02, 1.09663316e+03,\n",
       "       2.98095799e+03, 8.10308393e+03, 2.20264658e+04, 5.98741417e+04,\n",
       "       1.62754791e+05, 4.42413392e+05, 1.20260428e+06, 3.26901737e+06,\n",
       "       8.88611052e+06, 2.41549528e+07, 6.56599691e+07, 1.78482301e+08,\n",
       "       4.85165195e+08, 1.31881573e+09, 3.58491285e+09, 9.74480345e+09,\n",
       "       2.64891221e+10, 7.20048993e+10, 1.95729609e+11, 5.32048241e+11,\n",
       "       1.44625706e+12, 3.93133430e+12, 1.06864746e+13, 2.90488497e+13,\n",
       "       7.89629602e+13, 2.14643580e+14, 5.83461743e+14, 1.58601345e+15,\n",
       "       4.31123155e+15, 1.17191424e+16, 3.18559318e+16, 8.65934004e+16,\n",
       "       2.35385267e+17, 6.39843494e+17, 1.73927494e+18, 4.72783947e+18,\n",
       "       1.28516001e+19, 3.49342711e+19, 9.49611942e+19, 2.58131289e+20,\n",
       "       7.01673591e+20, 1.90734657e+21, 5.18470553e+21, 1.40934908e+22,\n",
       "       3.83100800e+22, 1.04137594e+23, 2.83075330e+23, 7.69478527e+23,\n",
       "       2.09165950e+24, 5.68572000e+24, 1.54553894e+25, 4.20121040e+25,\n",
       "       1.14200739e+26, 3.10429794e+26, 8.43835667e+26, 2.29378316e+27,\n",
       "       6.23514908e+27, 1.69488924e+28, 4.60718663e+28, 1.25236317e+29,\n",
       "       3.40427605e+29, 9.25378173e+29, 2.51543867e+30, 6.83767123e+30,\n",
       "       1.85867175e+31, 5.05239363e+31, 1.37338298e+32, 3.73324200e+32,\n",
       "       1.01480039e+33, 2.75851345e+33, 7.49841700e+33, 2.03828107e+34,\n",
       "       5.54062238e+34, 1.50609731e+35, 4.09399696e+35, 1.11286375e+36,\n",
       "       3.02507732e+36, 8.22301271e+36, 2.23524660e+37, 6.07603023e+37,\n",
       "       1.65163625e+38, 4.48961282e+38, 1.22040329e+39, 3.31740010e+39,\n",
       "       9.01762841e+39, 2.45124554e+40, 6.66317622e+40, 1.81123908e+41,\n",
       "       4.92345829e+41, 1.33833472e+42, 3.63797095e+42, 9.88903032e+42])"
      ]
     },
     "execution_count": 187,
     "metadata": {},
     "output_type": "execute_result"
    }
   ],
   "source": [
    "np.exp(sam)      #exponential"
   ]
  },
  {
   "cell_type": "code",
   "execution_count": 256,
   "id": "28a74199",
   "metadata": {},
   "outputs": [
    {
     "data": {
      "text/plain": [
       "array([0.        , 1.        , 1.41421356, 1.73205081, 2.        ,\n",
       "       2.23606798, 2.44948974, 2.64575131, 2.82842712, 3.        ,\n",
       "       3.16227766, 3.31662479, 3.46410162, 3.60555128, 3.74165739,\n",
       "       3.87298335, 4.        , 4.12310563, 4.24264069, 4.35889894,\n",
       "       4.47213595, 4.58257569, 4.69041576, 4.79583152, 4.89897949,\n",
       "       5.        , 5.09901951, 5.19615242, 5.29150262, 5.38516481,\n",
       "       5.47722558, 5.56776436, 5.65685425, 5.74456265, 5.83095189,\n",
       "       5.91607978, 6.        , 6.08276253, 6.164414  , 6.244998  ,\n",
       "       6.32455532, 6.40312424, 6.4807407 , 6.55743852, 6.63324958,\n",
       "       6.70820393, 6.78232998, 6.8556546 , 6.92820323, 7.        ,\n",
       "       7.07106781, 7.14142843, 7.21110255, 7.28010989, 7.34846923,\n",
       "       7.41619849, 7.48331477, 7.54983444, 7.61577311, 7.68114575,\n",
       "       7.74596669, 7.81024968, 7.87400787, 7.93725393, 8.        ,\n",
       "       8.06225775, 8.1240384 , 8.18535277, 8.24621125, 8.30662386,\n",
       "       8.36660027, 8.42614977, 8.48528137, 8.54400375, 8.60232527,\n",
       "       8.66025404, 8.71779789, 8.77496439, 8.83176087, 8.88819442,\n",
       "       8.94427191, 9.        , 9.05538514, 9.11043358, 9.16515139,\n",
       "       9.21954446, 9.2736185 , 9.32737905, 9.38083152, 9.43398113,\n",
       "       9.48683298, 9.53939201, 9.59166305, 9.64365076, 9.69535971,\n",
       "       9.74679434, 9.79795897, 9.8488578 , 9.89949494, 9.94987437])"
      ]
     },
     "execution_count": 256,
     "metadata": {},
     "output_type": "execute_result"
    }
   ],
   "source": [
    "np.sqrt(sam)    #square root"
   ]
  },
  {
   "cell_type": "code",
   "execution_count": 258,
   "id": "a3d866c1",
   "metadata": {},
   "outputs": [
    {
     "name": "stderr",
     "output_type": "stream",
     "text": [
      "C:\\Users\\hp\\AppData\\Local\\Temp/ipykernel_13616/3925996257.py:1: RuntimeWarning: divide by zero encountered in log\n",
      "  np.log(sam)          #log\n"
     ]
    },
    {
     "data": {
      "text/plain": [
       "array([      -inf, 0.        , 0.69314718, 1.09861229, 1.38629436,\n",
       "       1.60943791, 1.79175947, 1.94591015, 2.07944154, 2.19722458,\n",
       "       2.30258509, 2.39789527, 2.48490665, 2.56494936, 2.63905733,\n",
       "       2.7080502 , 2.77258872, 2.83321334, 2.89037176, 2.94443898,\n",
       "       2.99573227, 3.04452244, 3.09104245, 3.13549422, 3.17805383,\n",
       "       3.21887582, 3.25809654, 3.29583687, 3.33220451, 3.36729583,\n",
       "       3.40119738, 3.4339872 , 3.4657359 , 3.49650756, 3.52636052,\n",
       "       3.55534806, 3.58351894, 3.61091791, 3.63758616, 3.66356165,\n",
       "       3.68887945, 3.71357207, 3.73766962, 3.76120012, 3.78418963,\n",
       "       3.80666249, 3.8286414 , 3.8501476 , 3.87120101, 3.8918203 ,\n",
       "       3.91202301, 3.93182563, 3.95124372, 3.97029191, 3.98898405,\n",
       "       4.00733319, 4.02535169, 4.04305127, 4.06044301, 4.07753744,\n",
       "       4.09434456, 4.11087386, 4.12713439, 4.14313473, 4.15888308,\n",
       "       4.17438727, 4.18965474, 4.20469262, 4.21950771, 4.2341065 ,\n",
       "       4.24849524, 4.26267988, 4.27666612, 4.29045944, 4.30406509,\n",
       "       4.31748811, 4.33073334, 4.34380542, 4.35670883, 4.36944785,\n",
       "       4.38202663, 4.39444915, 4.40671925, 4.41884061, 4.4308168 ,\n",
       "       4.44265126, 4.4543473 , 4.46590812, 4.47733681, 4.48863637,\n",
       "       4.49980967, 4.51085951, 4.52178858, 4.53259949, 4.54329478,\n",
       "       4.55387689, 4.56434819, 4.57471098, 4.58496748, 4.59511985])"
      ]
     },
     "execution_count": 258,
     "metadata": {},
     "output_type": "execute_result"
    }
   ],
   "source": [
    "np.log(sam)          #log"
   ]
  },
  {
   "cell_type": "code",
   "execution_count": 192,
   "id": "b1683ff2",
   "metadata": {},
   "outputs": [
    {
     "data": {
      "text/plain": [
       "99"
      ]
     },
     "execution_count": 192,
     "metadata": {},
     "output_type": "execute_result"
    }
   ],
   "source": [
    "np.argmax(sam)"
   ]
  },
  {
   "cell_type": "code",
   "execution_count": 193,
   "id": "028db525",
   "metadata": {},
   "outputs": [
    {
     "data": {
      "text/plain": [
       "0"
      ]
     },
     "execution_count": 193,
     "metadata": {},
     "output_type": "execute_result"
    }
   ],
   "source": [
    "np.argmin(sam)"
   ]
  },
  {
   "cell_type": "code",
   "execution_count": 194,
   "id": "7c77f451",
   "metadata": {},
   "outputs": [
    {
     "data": {
      "text/plain": [
       "28.86607004772212"
      ]
     },
     "execution_count": 194,
     "metadata": {},
     "output_type": "execute_result"
    }
   ],
   "source": [
    "np.std(sam)         #standard deviaton"
   ]
  },
  {
   "cell_type": "code",
   "execution_count": 259,
   "id": "4a719637",
   "metadata": {},
   "outputs": [
    {
     "data": {
      "text/plain": [
       "833.25"
      ]
     },
     "execution_count": 259,
     "metadata": {},
     "output_type": "execute_result"
    }
   ],
   "source": [
    "np.var(sam)         #variance"
   ]
  },
  {
   "cell_type": "code",
   "execution_count": 196,
   "id": "5486efdf",
   "metadata": {},
   "outputs": [
    {
     "data": {
      "text/plain": [
       "49.5"
      ]
     },
     "execution_count": 196,
     "metadata": {},
     "output_type": "execute_result"
    }
   ],
   "source": [
    "np.mean(sam)"
   ]
  },
  {
   "cell_type": "code",
   "execution_count": 197,
   "id": "ab2b554f",
   "metadata": {},
   "outputs": [
    {
     "data": {
      "text/plain": [
       "49.5"
      ]
     },
     "execution_count": 197,
     "metadata": {},
     "output_type": "execute_result"
    }
   ],
   "source": [
    "np.median(sam)"
   ]
  },
  {
   "cell_type": "code",
   "execution_count": 203,
   "id": "1dd4babc",
   "metadata": {},
   "outputs": [
    {
     "data": {
      "text/plain": [
       "array([[0.33016572, 0.61428774, 0.10928338, 0.62499703, 0.4298781 ],\n",
       "       [0.62302348, 0.56349253, 0.67985279, 0.06332458, 0.6005075 ],\n",
       "       [0.55071617, 0.45930651, 0.15661494, 0.25022615, 0.52372281],\n",
       "       [0.47862906, 0.66459866, 0.28747259, 0.20021481, 0.99832621]])"
      ]
     },
     "execution_count": 203,
     "metadata": {},
     "output_type": "execute_result"
    }
   ],
   "source": [
    "x=np.random.rand(4,5)\n",
    "x"
   ]
  },
  {
   "cell_type": "code",
   "execution_count": 260,
   "id": "bb1cff5f",
   "metadata": {},
   "outputs": [
    {
     "data": {
      "text/plain": [
       "array([[0.3302, 0.6143, 0.1093, 0.625 , 0.4299],\n",
       "       [0.623 , 0.5635, 0.6799, 0.0633, 0.6005],\n",
       "       [0.5507, 0.4593, 0.1566, 0.2502, 0.5237],\n",
       "       [0.4786, 0.6646, 0.2875, 0.2002, 0.9983]])"
      ]
     },
     "execution_count": 260,
     "metadata": {},
     "output_type": "execute_result"
    }
   ],
   "source": [
    "np.round(x,decimals=4)          #rounding off to 4 decimal places in x"
   ]
  },
  {
   "cell_type": "code",
   "execution_count": 261,
   "id": "38e9f0f3",
   "metadata": {},
   "outputs": [
    {
     "data": {
      "text/plain": [
       "array(['Orange', 'apple', 'mango', 'orange'], dtype='<U6')"
      ]
     },
     "execution_count": 261,
     "metadata": {},
     "output_type": "execute_result"
    }
   ],
   "source": [
    "fruit=np.array([\"apple\",\"mango\",\"apple\",\"orange\",\"Orange\"])\n",
    "np.unique(fruit)                                         #printing the unique (no repeats)"
   ]
  },
  {
   "cell_type": "markdown",
   "id": "08830839",
   "metadata": {},
   "source": [
    "# Pandas"
   ]
  },
  {
   "cell_type": "code",
   "execution_count": 262,
   "id": "4f682d2e",
   "metadata": {},
   "outputs": [],
   "source": [
    "import pandas as pd                        #importing  pandas"
   ]
  },
  {
   "cell_type": "code",
   "execution_count": 263,
   "id": "683004cb",
   "metadata": {},
   "outputs": [],
   "source": [
    "import numpy as np"
   ]
  },
  {
   "cell_type": "markdown",
   "id": "a89d5099",
   "metadata": {},
   "source": [
    "### Pandas dataframe and indexing"
   ]
  },
  {
   "cell_type": "code",
   "execution_count": 215,
   "id": "61c7579e",
   "metadata": {},
   "outputs": [
    {
     "data": {
      "text/plain": [
       "cricket       1\n",
       "football      2\n",
       "basketball    3\n",
       "golf          4\n",
       "dtype: int64"
      ]
     },
     "execution_count": 215,
     "metadata": {},
     "output_type": "execute_result"
    }
   ],
   "source": [
    "sport=pd.Series([1,2,3,4],index=['cricket','football','basketball','golf'])      #INDEXING\n",
    "sport"
   ]
  },
  {
   "cell_type": "code",
   "execution_count": 216,
   "id": "39c7718e",
   "metadata": {},
   "outputs": [
    {
     "data": {
      "text/plain": [
       "cricket     11\n",
       "baseball    12\n",
       "skating      3\n",
       "football    51\n",
       "dtype: int64"
      ]
     },
     "execution_count": 216,
     "metadata": {},
     "output_type": "execute_result"
    }
   ],
   "source": [
    "sport1=pd.Series([11,12,3,51],index=['cricket','baseball','skating','football'])\n",
    "sport1"
   ]
  },
  {
   "cell_type": "code",
   "execution_count": 217,
   "id": "6fa1713a",
   "metadata": {},
   "outputs": [
    {
     "data": {
      "text/plain": [
       "baseball       NaN\n",
       "basketball     NaN\n",
       "cricket       12.0\n",
       "football      53.0\n",
       "golf           NaN\n",
       "skating        NaN\n",
       "dtype: float64"
      ]
     },
     "execution_count": 217,
     "metadata": {},
     "output_type": "execute_result"
    }
   ],
   "source": [
    "sport+sport1  #combinning two dataset requires existance of same index in both like both should have basketball but don't have i.e NAN has came "
   ]
  },
  {
   "cell_type": "code",
   "execution_count": 226,
   "id": "e5aa4b45",
   "metadata": {},
   "outputs": [
    {
     "data": {
      "text/html": [
       "<div>\n",
       "<style scoped>\n",
       "    .dataframe tbody tr th:only-of-type {\n",
       "        vertical-align: middle;\n",
       "    }\n",
       "\n",
       "    .dataframe tbody tr th {\n",
       "        vertical-align: top;\n",
       "    }\n",
       "\n",
       "    .dataframe thead th {\n",
       "        text-align: right;\n",
       "    }\n",
       "</style>\n",
       "<table border=\"1\" class=\"dataframe\">\n",
       "  <thead>\n",
       "    <tr style=\"text-align: right;\">\n",
       "      <th></th>\n",
       "      <th>Sc1</th>\n",
       "      <th>Sc2</th>\n",
       "      <th>Sc3</th>\n",
       "      <th>Sc4</th>\n",
       "      <th>Sc5</th>\n",
       "      <th>Sc6</th>\n",
       "      <th>Sc7</th>\n",
       "    </tr>\n",
       "  </thead>\n",
       "  <tbody>\n",
       "    <tr>\n",
       "      <th>A</th>\n",
       "      <td>0.956572</td>\n",
       "      <td>0.229744</td>\n",
       "      <td>0.692706</td>\n",
       "      <td>0.532051</td>\n",
       "      <td>0.142405</td>\n",
       "      <td>0.515052</td>\n",
       "      <td>0.785464</td>\n",
       "    </tr>\n",
       "    <tr>\n",
       "      <th>B</th>\n",
       "      <td>0.572901</td>\n",
       "      <td>0.046835</td>\n",
       "      <td>0.538890</td>\n",
       "      <td>0.293328</td>\n",
       "      <td>0.230481</td>\n",
       "      <td>0.824555</td>\n",
       "      <td>0.409241</td>\n",
       "    </tr>\n",
       "    <tr>\n",
       "      <th>C</th>\n",
       "      <td>0.125329</td>\n",
       "      <td>0.478156</td>\n",
       "      <td>0.491865</td>\n",
       "      <td>0.224052</td>\n",
       "      <td>0.216096</td>\n",
       "      <td>0.441460</td>\n",
       "      <td>0.426723</td>\n",
       "    </tr>\n",
       "    <tr>\n",
       "      <th>D</th>\n",
       "      <td>0.167127</td>\n",
       "      <td>0.365165</td>\n",
       "      <td>0.825469</td>\n",
       "      <td>0.215996</td>\n",
       "      <td>0.119130</td>\n",
       "      <td>0.314497</td>\n",
       "      <td>0.604156</td>\n",
       "    </tr>\n",
       "    <tr>\n",
       "      <th>E</th>\n",
       "      <td>0.595408</td>\n",
       "      <td>0.554467</td>\n",
       "      <td>0.928439</td>\n",
       "      <td>0.466070</td>\n",
       "      <td>0.570004</td>\n",
       "      <td>0.820732</td>\n",
       "      <td>0.239546</td>\n",
       "    </tr>\n",
       "    <tr>\n",
       "      <th>F</th>\n",
       "      <td>0.675163</td>\n",
       "      <td>0.210378</td>\n",
       "      <td>0.696592</td>\n",
       "      <td>0.129543</td>\n",
       "      <td>0.040413</td>\n",
       "      <td>0.793706</td>\n",
       "      <td>0.204617</td>\n",
       "    </tr>\n",
       "    <tr>\n",
       "      <th>G</th>\n",
       "      <td>0.571912</td>\n",
       "      <td>0.819112</td>\n",
       "      <td>0.157242</td>\n",
       "      <td>0.563482</td>\n",
       "      <td>0.161405</td>\n",
       "      <td>0.469502</td>\n",
       "      <td>0.683713</td>\n",
       "    </tr>\n",
       "    <tr>\n",
       "      <th>H</th>\n",
       "      <td>0.873982</td>\n",
       "      <td>0.170695</td>\n",
       "      <td>0.317635</td>\n",
       "      <td>0.003499</td>\n",
       "      <td>0.467963</td>\n",
       "      <td>0.297448</td>\n",
       "      <td>0.649227</td>\n",
       "    </tr>\n",
       "  </tbody>\n",
       "</table>\n",
       "</div>"
      ],
      "text/plain": [
       "        Sc1       Sc2       Sc3       Sc4       Sc5       Sc6       Sc7\n",
       "A  0.956572  0.229744  0.692706  0.532051  0.142405  0.515052  0.785464\n",
       "B  0.572901  0.046835  0.538890  0.293328  0.230481  0.824555  0.409241\n",
       "C  0.125329  0.478156  0.491865  0.224052  0.216096  0.441460  0.426723\n",
       "D  0.167127  0.365165  0.825469  0.215996  0.119130  0.314497  0.604156\n",
       "E  0.595408  0.554467  0.928439  0.466070  0.570004  0.820732  0.239546\n",
       "F  0.675163  0.210378  0.696592  0.129543  0.040413  0.793706  0.204617\n",
       "G  0.571912  0.819112  0.157242  0.563482  0.161405  0.469502  0.683713\n",
       "H  0.873982  0.170695  0.317635  0.003499  0.467963  0.297448  0.649227"
      ]
     },
     "execution_count": 226,
     "metadata": {},
     "output_type": "execute_result"
    }
   ],
   "source": [
    "df=pd.DataFrame(np.random.rand(8,7),index='A B C D E F G H'.split(),columns='Sc1 Sc2 Sc3 Sc4 Sc5 Sc6 Sc7'.split())\n",
    "df                         #DataFrame"
   ]
  },
  {
   "cell_type": "code",
   "execution_count": 229,
   "id": "c0135b14",
   "metadata": {},
   "outputs": [
    {
     "data": {
      "text/html": [
       "<div>\n",
       "<style scoped>\n",
       "    .dataframe tbody tr th:only-of-type {\n",
       "        vertical-align: middle;\n",
       "    }\n",
       "\n",
       "    .dataframe tbody tr th {\n",
       "        vertical-align: top;\n",
       "    }\n",
       "\n",
       "    .dataframe thead th {\n",
       "        text-align: right;\n",
       "    }\n",
       "</style>\n",
       "<table border=\"1\" class=\"dataframe\">\n",
       "  <thead>\n",
       "    <tr style=\"text-align: right;\">\n",
       "      <th></th>\n",
       "      <th>Sc1</th>\n",
       "      <th>Sc5</th>\n",
       "      <th>Sc3</th>\n",
       "    </tr>\n",
       "  </thead>\n",
       "  <tbody>\n",
       "    <tr>\n",
       "      <th>A</th>\n",
       "      <td>0.956572</td>\n",
       "      <td>0.142405</td>\n",
       "      <td>0.692706</td>\n",
       "    </tr>\n",
       "    <tr>\n",
       "      <th>B</th>\n",
       "      <td>0.572901</td>\n",
       "      <td>0.230481</td>\n",
       "      <td>0.538890</td>\n",
       "    </tr>\n",
       "    <tr>\n",
       "      <th>C</th>\n",
       "      <td>0.125329</td>\n",
       "      <td>0.216096</td>\n",
       "      <td>0.491865</td>\n",
       "    </tr>\n",
       "    <tr>\n",
       "      <th>D</th>\n",
       "      <td>0.167127</td>\n",
       "      <td>0.119130</td>\n",
       "      <td>0.825469</td>\n",
       "    </tr>\n",
       "    <tr>\n",
       "      <th>E</th>\n",
       "      <td>0.595408</td>\n",
       "      <td>0.570004</td>\n",
       "      <td>0.928439</td>\n",
       "    </tr>\n",
       "    <tr>\n",
       "      <th>F</th>\n",
       "      <td>0.675163</td>\n",
       "      <td>0.040413</td>\n",
       "      <td>0.696592</td>\n",
       "    </tr>\n",
       "    <tr>\n",
       "      <th>G</th>\n",
       "      <td>0.571912</td>\n",
       "      <td>0.161405</td>\n",
       "      <td>0.157242</td>\n",
       "    </tr>\n",
       "    <tr>\n",
       "      <th>H</th>\n",
       "      <td>0.873982</td>\n",
       "      <td>0.467963</td>\n",
       "      <td>0.317635</td>\n",
       "    </tr>\n",
       "  </tbody>\n",
       "</table>\n",
       "</div>"
      ],
      "text/plain": [
       "        Sc1       Sc5       Sc3\n",
       "A  0.956572  0.142405  0.692706\n",
       "B  0.572901  0.230481  0.538890\n",
       "C  0.125329  0.216096  0.491865\n",
       "D  0.167127  0.119130  0.825469\n",
       "E  0.595408  0.570004  0.928439\n",
       "F  0.675163  0.040413  0.696592\n",
       "G  0.571912  0.161405  0.157242\n",
       "H  0.873982  0.467963  0.317635"
      ]
     },
     "execution_count": 229,
     "metadata": {},
     "output_type": "execute_result"
    }
   ],
   "source": [
    "df[['Sc1','Sc5','Sc3']]               #calling Data from the Dataframe via columns"
   ]
  },
  {
   "cell_type": "code",
   "execution_count": 231,
   "id": "0e3144a1",
   "metadata": {},
   "outputs": [
    {
     "data": {
      "text/plain": [
       "A    0.956572\n",
       "B    0.572901\n",
       "C    0.125329\n",
       "D    0.167127\n",
       "E    0.595408\n",
       "F    0.675163\n",
       "G    0.571912\n",
       "H    0.873982\n",
       "Name: Sc1, dtype: float64"
      ]
     },
     "execution_count": 231,
     "metadata": {},
     "output_type": "execute_result"
    }
   ],
   "source": [
    "df['Sc1']"
   ]
  },
  {
   "cell_type": "code",
   "execution_count": 264,
   "id": "1969c14b",
   "metadata": {},
   "outputs": [
    {
     "data": {
      "text/html": [
       "<div>\n",
       "<style scoped>\n",
       "    .dataframe tbody tr th:only-of-type {\n",
       "        vertical-align: middle;\n",
       "    }\n",
       "\n",
       "    .dataframe tbody tr th {\n",
       "        vertical-align: top;\n",
       "    }\n",
       "\n",
       "    .dataframe thead th {\n",
       "        text-align: right;\n",
       "    }\n",
       "</style>\n",
       "<table border=\"1\" class=\"dataframe\">\n",
       "  <thead>\n",
       "    <tr style=\"text-align: right;\">\n",
       "      <th></th>\n",
       "      <th>Sc1</th>\n",
       "      <th>Sc3</th>\n",
       "      <th>Sc9</th>\n",
       "    </tr>\n",
       "  </thead>\n",
       "  <tbody>\n",
       "    <tr>\n",
       "      <th>A</th>\n",
       "      <td>0.956572</td>\n",
       "      <td>0.692706</td>\n",
       "      <td>1.649278</td>\n",
       "    </tr>\n",
       "    <tr>\n",
       "      <th>B</th>\n",
       "      <td>0.572901</td>\n",
       "      <td>0.538890</td>\n",
       "      <td>1.111791</td>\n",
       "    </tr>\n",
       "    <tr>\n",
       "      <th>C</th>\n",
       "      <td>0.125329</td>\n",
       "      <td>0.491865</td>\n",
       "      <td>0.617194</td>\n",
       "    </tr>\n",
       "    <tr>\n",
       "      <th>D</th>\n",
       "      <td>0.167127</td>\n",
       "      <td>0.825469</td>\n",
       "      <td>0.992596</td>\n",
       "    </tr>\n",
       "    <tr>\n",
       "      <th>E</th>\n",
       "      <td>0.595408</td>\n",
       "      <td>0.928439</td>\n",
       "      <td>1.523847</td>\n",
       "    </tr>\n",
       "    <tr>\n",
       "      <th>F</th>\n",
       "      <td>0.675163</td>\n",
       "      <td>0.696592</td>\n",
       "      <td>1.371754</td>\n",
       "    </tr>\n",
       "    <tr>\n",
       "      <th>G</th>\n",
       "      <td>0.571912</td>\n",
       "      <td>0.157242</td>\n",
       "      <td>0.729155</td>\n",
       "    </tr>\n",
       "    <tr>\n",
       "      <th>H</th>\n",
       "      <td>0.873982</td>\n",
       "      <td>0.317635</td>\n",
       "      <td>1.191618</td>\n",
       "    </tr>\n",
       "  </tbody>\n",
       "</table>\n",
       "</div>"
      ],
      "text/plain": [
       "        Sc1       Sc3       Sc9\n",
       "A  0.956572  0.692706  1.649278\n",
       "B  0.572901  0.538890  1.111791\n",
       "C  0.125329  0.491865  0.617194\n",
       "D  0.167127  0.825469  0.992596\n",
       "E  0.595408  0.928439  1.523847\n",
       "F  0.675163  0.696592  1.371754\n",
       "G  0.571912  0.157242  0.729155\n",
       "H  0.873982  0.317635  1.191618"
      ]
     },
     "execution_count": 264,
     "metadata": {},
     "output_type": "execute_result"
    }
   ],
   "source": [
    "df['Sc9']=df['Sc1']+df['Sc3']\n",
    "df[['Sc1','Sc3','Sc9']]                 #adding of different columns and making plus adding new column"
   ]
  },
  {
   "cell_type": "code",
   "execution_count": 242,
   "id": "692f8c94",
   "metadata": {},
   "outputs": [
    {
     "data": {
      "text/html": [
       "<div>\n",
       "<style scoped>\n",
       "    .dataframe tbody tr th:only-of-type {\n",
       "        vertical-align: middle;\n",
       "    }\n",
       "\n",
       "    .dataframe tbody tr th {\n",
       "        vertical-align: top;\n",
       "    }\n",
       "\n",
       "    .dataframe thead th {\n",
       "        text-align: right;\n",
       "    }\n",
       "</style>\n",
       "<table border=\"1\" class=\"dataframe\">\n",
       "  <thead>\n",
       "    <tr style=\"text-align: right;\">\n",
       "      <th></th>\n",
       "      <th>Sc1</th>\n",
       "      <th>Sc2</th>\n",
       "      <th>Sc3</th>\n",
       "      <th>Sc4</th>\n",
       "      <th>Sc5</th>\n",
       "      <th>Sc6</th>\n",
       "      <th>Sc7</th>\n",
       "      <th>Sc9</th>\n",
       "    </tr>\n",
       "  </thead>\n",
       "  <tbody>\n",
       "    <tr>\n",
       "      <th>A</th>\n",
       "      <td>0.956572</td>\n",
       "      <td>0.229744</td>\n",
       "      <td>0.692706</td>\n",
       "      <td>0.532051</td>\n",
       "      <td>0.142405</td>\n",
       "      <td>0.515052</td>\n",
       "      <td>0.785464</td>\n",
       "      <td>1.649278</td>\n",
       "    </tr>\n",
       "    <tr>\n",
       "      <th>B</th>\n",
       "      <td>0.572901</td>\n",
       "      <td>0.046835</td>\n",
       "      <td>0.538890</td>\n",
       "      <td>0.293328</td>\n",
       "      <td>0.230481</td>\n",
       "      <td>0.824555</td>\n",
       "      <td>0.409241</td>\n",
       "      <td>1.111791</td>\n",
       "    </tr>\n",
       "    <tr>\n",
       "      <th>C</th>\n",
       "      <td>0.125329</td>\n",
       "      <td>0.478156</td>\n",
       "      <td>0.491865</td>\n",
       "      <td>0.224052</td>\n",
       "      <td>0.216096</td>\n",
       "      <td>0.441460</td>\n",
       "      <td>0.426723</td>\n",
       "      <td>0.617194</td>\n",
       "    </tr>\n",
       "    <tr>\n",
       "      <th>D</th>\n",
       "      <td>0.167127</td>\n",
       "      <td>0.365165</td>\n",
       "      <td>0.825469</td>\n",
       "      <td>0.215996</td>\n",
       "      <td>0.119130</td>\n",
       "      <td>0.314497</td>\n",
       "      <td>0.604156</td>\n",
       "      <td>0.992596</td>\n",
       "    </tr>\n",
       "    <tr>\n",
       "      <th>E</th>\n",
       "      <td>0.595408</td>\n",
       "      <td>0.554467</td>\n",
       "      <td>0.928439</td>\n",
       "      <td>0.466070</td>\n",
       "      <td>0.570004</td>\n",
       "      <td>0.820732</td>\n",
       "      <td>0.239546</td>\n",
       "      <td>1.523847</td>\n",
       "    </tr>\n",
       "    <tr>\n",
       "      <th>F</th>\n",
       "      <td>0.675163</td>\n",
       "      <td>0.210378</td>\n",
       "      <td>0.696592</td>\n",
       "      <td>0.129543</td>\n",
       "      <td>0.040413</td>\n",
       "      <td>0.793706</td>\n",
       "      <td>0.204617</td>\n",
       "      <td>1.371754</td>\n",
       "    </tr>\n",
       "    <tr>\n",
       "      <th>G</th>\n",
       "      <td>0.571912</td>\n",
       "      <td>0.819112</td>\n",
       "      <td>0.157242</td>\n",
       "      <td>0.563482</td>\n",
       "      <td>0.161405</td>\n",
       "      <td>0.469502</td>\n",
       "      <td>0.683713</td>\n",
       "      <td>0.729155</td>\n",
       "    </tr>\n",
       "    <tr>\n",
       "      <th>H</th>\n",
       "      <td>0.873982</td>\n",
       "      <td>0.170695</td>\n",
       "      <td>0.317635</td>\n",
       "      <td>0.003499</td>\n",
       "      <td>0.467963</td>\n",
       "      <td>0.297448</td>\n",
       "      <td>0.649227</td>\n",
       "      <td>1.191618</td>\n",
       "    </tr>\n",
       "  </tbody>\n",
       "</table>\n",
       "</div>"
      ],
      "text/plain": [
       "        Sc1       Sc2       Sc3       Sc4       Sc5       Sc6       Sc7  \\\n",
       "A  0.956572  0.229744  0.692706  0.532051  0.142405  0.515052  0.785464   \n",
       "B  0.572901  0.046835  0.538890  0.293328  0.230481  0.824555  0.409241   \n",
       "C  0.125329  0.478156  0.491865  0.224052  0.216096  0.441460  0.426723   \n",
       "D  0.167127  0.365165  0.825469  0.215996  0.119130  0.314497  0.604156   \n",
       "E  0.595408  0.554467  0.928439  0.466070  0.570004  0.820732  0.239546   \n",
       "F  0.675163  0.210378  0.696592  0.129543  0.040413  0.793706  0.204617   \n",
       "G  0.571912  0.819112  0.157242  0.563482  0.161405  0.469502  0.683713   \n",
       "H  0.873982  0.170695  0.317635  0.003499  0.467963  0.297448  0.649227   \n",
       "\n",
       "        Sc9  \n",
       "A  1.649278  \n",
       "B  1.111791  \n",
       "C  0.617194  \n",
       "D  0.992596  \n",
       "E  1.523847  \n",
       "F  1.371754  \n",
       "G  0.729155  \n",
       "H  1.191618  "
      ]
     },
     "execution_count": 242,
     "metadata": {},
     "output_type": "execute_result"
    }
   ],
   "source": [
    "df"
   ]
  },
  {
   "cell_type": "code",
   "execution_count": 265,
   "id": "1d60edce",
   "metadata": {},
   "outputs": [
    {
     "data": {
      "text/html": [
       "<div>\n",
       "<style scoped>\n",
       "    .dataframe tbody tr th:only-of-type {\n",
       "        vertical-align: middle;\n",
       "    }\n",
       "\n",
       "    .dataframe tbody tr th {\n",
       "        vertical-align: top;\n",
       "    }\n",
       "\n",
       "    .dataframe thead th {\n",
       "        text-align: right;\n",
       "    }\n",
       "</style>\n",
       "<table border=\"1\" class=\"dataframe\">\n",
       "  <thead>\n",
       "    <tr style=\"text-align: right;\">\n",
       "      <th></th>\n",
       "      <th>Sc1</th>\n",
       "      <th>Sc2</th>\n",
       "      <th>Sc3</th>\n",
       "      <th>Sc4</th>\n",
       "      <th>Sc5</th>\n",
       "      <th>Sc6</th>\n",
       "      <th>Sc7</th>\n",
       "      <th>Sc9</th>\n",
       "    </tr>\n",
       "  </thead>\n",
       "  <tbody>\n",
       "    <tr>\n",
       "      <th>A</th>\n",
       "      <td>0.956572</td>\n",
       "      <td>0.229744</td>\n",
       "      <td>0.692706</td>\n",
       "      <td>0.532051</td>\n",
       "      <td>0.142405</td>\n",
       "      <td>0.515052</td>\n",
       "      <td>0.785464</td>\n",
       "      <td>1.649278</td>\n",
       "    </tr>\n",
       "    <tr>\n",
       "      <th>B</th>\n",
       "      <td>0.572901</td>\n",
       "      <td>0.046835</td>\n",
       "      <td>0.538890</td>\n",
       "      <td>0.293328</td>\n",
       "      <td>0.230481</td>\n",
       "      <td>0.824555</td>\n",
       "      <td>0.409241</td>\n",
       "      <td>1.111791</td>\n",
       "    </tr>\n",
       "    <tr>\n",
       "      <th>C</th>\n",
       "      <td>0.125329</td>\n",
       "      <td>0.478156</td>\n",
       "      <td>0.491865</td>\n",
       "      <td>0.224052</td>\n",
       "      <td>0.216096</td>\n",
       "      <td>0.441460</td>\n",
       "      <td>0.426723</td>\n",
       "      <td>0.617194</td>\n",
       "    </tr>\n",
       "    <tr>\n",
       "      <th>D</th>\n",
       "      <td>0.167127</td>\n",
       "      <td>0.365165</td>\n",
       "      <td>0.825469</td>\n",
       "      <td>0.215996</td>\n",
       "      <td>0.119130</td>\n",
       "      <td>0.314497</td>\n",
       "      <td>0.604156</td>\n",
       "      <td>0.992596</td>\n",
       "    </tr>\n",
       "    <tr>\n",
       "      <th>E</th>\n",
       "      <td>0.595408</td>\n",
       "      <td>0.554467</td>\n",
       "      <td>0.928439</td>\n",
       "      <td>0.466070</td>\n",
       "      <td>0.570004</td>\n",
       "      <td>0.820732</td>\n",
       "      <td>0.239546</td>\n",
       "      <td>1.523847</td>\n",
       "    </tr>\n",
       "    <tr>\n",
       "      <th>F</th>\n",
       "      <td>0.675163</td>\n",
       "      <td>0.210378</td>\n",
       "      <td>0.696592</td>\n",
       "      <td>0.129543</td>\n",
       "      <td>0.040413</td>\n",
       "      <td>0.793706</td>\n",
       "      <td>0.204617</td>\n",
       "      <td>1.371754</td>\n",
       "    </tr>\n",
       "    <tr>\n",
       "      <th>G</th>\n",
       "      <td>0.571912</td>\n",
       "      <td>0.819112</td>\n",
       "      <td>0.157242</td>\n",
       "      <td>0.563482</td>\n",
       "      <td>0.161405</td>\n",
       "      <td>0.469502</td>\n",
       "      <td>0.683713</td>\n",
       "      <td>0.729155</td>\n",
       "    </tr>\n",
       "  </tbody>\n",
       "</table>\n",
       "</div>"
      ],
      "text/plain": [
       "        Sc1       Sc2       Sc3       Sc4       Sc5       Sc6       Sc7  \\\n",
       "A  0.956572  0.229744  0.692706  0.532051  0.142405  0.515052  0.785464   \n",
       "B  0.572901  0.046835  0.538890  0.293328  0.230481  0.824555  0.409241   \n",
       "C  0.125329  0.478156  0.491865  0.224052  0.216096  0.441460  0.426723   \n",
       "D  0.167127  0.365165  0.825469  0.215996  0.119130  0.314497  0.604156   \n",
       "E  0.595408  0.554467  0.928439  0.466070  0.570004  0.820732  0.239546   \n",
       "F  0.675163  0.210378  0.696592  0.129543  0.040413  0.793706  0.204617   \n",
       "G  0.571912  0.819112  0.157242  0.563482  0.161405  0.469502  0.683713   \n",
       "\n",
       "        Sc9  \n",
       "A  1.649278  \n",
       "B  1.111791  \n",
       "C  0.617194  \n",
       "D  0.992596  \n",
       "E  1.523847  \n",
       "F  1.371754  \n",
       "G  0.729155  "
      ]
     },
     "execution_count": 265,
     "metadata": {},
     "output_type": "execute_result"
    }
   ],
   "source": [
    "df.drop('H')                  #dropping row H via ( .drop(''))"
   ]
  },
  {
   "cell_type": "code",
   "execution_count": 266,
   "id": "ae2d0f51",
   "metadata": {},
   "outputs": [
    {
     "data": {
      "text/html": [
       "<div>\n",
       "<style scoped>\n",
       "    .dataframe tbody tr th:only-of-type {\n",
       "        vertical-align: middle;\n",
       "    }\n",
       "\n",
       "    .dataframe tbody tr th {\n",
       "        vertical-align: top;\n",
       "    }\n",
       "\n",
       "    .dataframe thead th {\n",
       "        text-align: right;\n",
       "    }\n",
       "</style>\n",
       "<table border=\"1\" class=\"dataframe\">\n",
       "  <thead>\n",
       "    <tr style=\"text-align: right;\">\n",
       "      <th></th>\n",
       "      <th>Sc2</th>\n",
       "      <th>Sc3</th>\n",
       "      <th>Sc4</th>\n",
       "      <th>Sc5</th>\n",
       "      <th>Sc6</th>\n",
       "      <th>Sc7</th>\n",
       "      <th>Sc9</th>\n",
       "    </tr>\n",
       "  </thead>\n",
       "  <tbody>\n",
       "    <tr>\n",
       "      <th>A</th>\n",
       "      <td>0.229744</td>\n",
       "      <td>0.692706</td>\n",
       "      <td>0.532051</td>\n",
       "      <td>0.142405</td>\n",
       "      <td>0.515052</td>\n",
       "      <td>0.785464</td>\n",
       "      <td>1.649278</td>\n",
       "    </tr>\n",
       "    <tr>\n",
       "      <th>B</th>\n",
       "      <td>0.046835</td>\n",
       "      <td>0.538890</td>\n",
       "      <td>0.293328</td>\n",
       "      <td>0.230481</td>\n",
       "      <td>0.824555</td>\n",
       "      <td>0.409241</td>\n",
       "      <td>1.111791</td>\n",
       "    </tr>\n",
       "    <tr>\n",
       "      <th>C</th>\n",
       "      <td>0.478156</td>\n",
       "      <td>0.491865</td>\n",
       "      <td>0.224052</td>\n",
       "      <td>0.216096</td>\n",
       "      <td>0.441460</td>\n",
       "      <td>0.426723</td>\n",
       "      <td>0.617194</td>\n",
       "    </tr>\n",
       "    <tr>\n",
       "      <th>D</th>\n",
       "      <td>0.365165</td>\n",
       "      <td>0.825469</td>\n",
       "      <td>0.215996</td>\n",
       "      <td>0.119130</td>\n",
       "      <td>0.314497</td>\n",
       "      <td>0.604156</td>\n",
       "      <td>0.992596</td>\n",
       "    </tr>\n",
       "    <tr>\n",
       "      <th>E</th>\n",
       "      <td>0.554467</td>\n",
       "      <td>0.928439</td>\n",
       "      <td>0.466070</td>\n",
       "      <td>0.570004</td>\n",
       "      <td>0.820732</td>\n",
       "      <td>0.239546</td>\n",
       "      <td>1.523847</td>\n",
       "    </tr>\n",
       "    <tr>\n",
       "      <th>F</th>\n",
       "      <td>0.210378</td>\n",
       "      <td>0.696592</td>\n",
       "      <td>0.129543</td>\n",
       "      <td>0.040413</td>\n",
       "      <td>0.793706</td>\n",
       "      <td>0.204617</td>\n",
       "      <td>1.371754</td>\n",
       "    </tr>\n",
       "    <tr>\n",
       "      <th>G</th>\n",
       "      <td>0.819112</td>\n",
       "      <td>0.157242</td>\n",
       "      <td>0.563482</td>\n",
       "      <td>0.161405</td>\n",
       "      <td>0.469502</td>\n",
       "      <td>0.683713</td>\n",
       "      <td>0.729155</td>\n",
       "    </tr>\n",
       "    <tr>\n",
       "      <th>H</th>\n",
       "      <td>0.170695</td>\n",
       "      <td>0.317635</td>\n",
       "      <td>0.003499</td>\n",
       "      <td>0.467963</td>\n",
       "      <td>0.297448</td>\n",
       "      <td>0.649227</td>\n",
       "      <td>1.191618</td>\n",
       "    </tr>\n",
       "  </tbody>\n",
       "</table>\n",
       "</div>"
      ],
      "text/plain": [
       "        Sc2       Sc3       Sc4       Sc5       Sc6       Sc7       Sc9\n",
       "A  0.229744  0.692706  0.532051  0.142405  0.515052  0.785464  1.649278\n",
       "B  0.046835  0.538890  0.293328  0.230481  0.824555  0.409241  1.111791\n",
       "C  0.478156  0.491865  0.224052  0.216096  0.441460  0.426723  0.617194\n",
       "D  0.365165  0.825469  0.215996  0.119130  0.314497  0.604156  0.992596\n",
       "E  0.554467  0.928439  0.466070  0.570004  0.820732  0.239546  1.523847\n",
       "F  0.210378  0.696592  0.129543  0.040413  0.793706  0.204617  1.371754\n",
       "G  0.819112  0.157242  0.563482  0.161405  0.469502  0.683713  0.729155\n",
       "H  0.170695  0.317635  0.003499  0.467963  0.297448  0.649227  1.191618"
      ]
     },
     "execution_count": 266,
     "metadata": {},
     "output_type": "execute_result"
    }
   ],
   "source": [
    "df.drop(\"Sc1\",axis=1)         #dropping column Sc1 via calling (.drop('',axis=1)) [axis=1 for column and axis=0 for row] "
   ]
  },
  {
   "cell_type": "code",
   "execution_count": 247,
   "id": "10ed4ff3",
   "metadata": {},
   "outputs": [
    {
     "data": {
      "text/html": [
       "<div>\n",
       "<style scoped>\n",
       "    .dataframe tbody tr th:only-of-type {\n",
       "        vertical-align: middle;\n",
       "    }\n",
       "\n",
       "    .dataframe tbody tr th {\n",
       "        vertical-align: top;\n",
       "    }\n",
       "\n",
       "    .dataframe thead th {\n",
       "        text-align: right;\n",
       "    }\n",
       "</style>\n",
       "<table border=\"1\" class=\"dataframe\">\n",
       "  <thead>\n",
       "    <tr style=\"text-align: right;\">\n",
       "      <th></th>\n",
       "      <th>Sc1</th>\n",
       "      <th>Sc2</th>\n",
       "      <th>Sc3</th>\n",
       "      <th>Sc4</th>\n",
       "      <th>Sc5</th>\n",
       "      <th>Sc6</th>\n",
       "      <th>Sc7</th>\n",
       "      <th>Sc9</th>\n",
       "    </tr>\n",
       "  </thead>\n",
       "  <tbody>\n",
       "    <tr>\n",
       "      <th>B</th>\n",
       "      <td>0.572901</td>\n",
       "      <td>0.046835</td>\n",
       "      <td>0.538890</td>\n",
       "      <td>0.293328</td>\n",
       "      <td>0.230481</td>\n",
       "      <td>0.824555</td>\n",
       "      <td>0.409241</td>\n",
       "      <td>1.111791</td>\n",
       "    </tr>\n",
       "    <tr>\n",
       "      <th>C</th>\n",
       "      <td>0.125329</td>\n",
       "      <td>0.478156</td>\n",
       "      <td>0.491865</td>\n",
       "      <td>0.224052</td>\n",
       "      <td>0.216096</td>\n",
       "      <td>0.441460</td>\n",
       "      <td>0.426723</td>\n",
       "      <td>0.617194</td>\n",
       "    </tr>\n",
       "    <tr>\n",
       "      <th>D</th>\n",
       "      <td>0.167127</td>\n",
       "      <td>0.365165</td>\n",
       "      <td>0.825469</td>\n",
       "      <td>0.215996</td>\n",
       "      <td>0.119130</td>\n",
       "      <td>0.314497</td>\n",
       "      <td>0.604156</td>\n",
       "      <td>0.992596</td>\n",
       "    </tr>\n",
       "    <tr>\n",
       "      <th>E</th>\n",
       "      <td>0.595408</td>\n",
       "      <td>0.554467</td>\n",
       "      <td>0.928439</td>\n",
       "      <td>0.466070</td>\n",
       "      <td>0.570004</td>\n",
       "      <td>0.820732</td>\n",
       "      <td>0.239546</td>\n",
       "      <td>1.523847</td>\n",
       "    </tr>\n",
       "    <tr>\n",
       "      <th>F</th>\n",
       "      <td>0.675163</td>\n",
       "      <td>0.210378</td>\n",
       "      <td>0.696592</td>\n",
       "      <td>0.129543</td>\n",
       "      <td>0.040413</td>\n",
       "      <td>0.793706</td>\n",
       "      <td>0.204617</td>\n",
       "      <td>1.371754</td>\n",
       "    </tr>\n",
       "    <tr>\n",
       "      <th>G</th>\n",
       "      <td>0.571912</td>\n",
       "      <td>0.819112</td>\n",
       "      <td>0.157242</td>\n",
       "      <td>0.563482</td>\n",
       "      <td>0.161405</td>\n",
       "      <td>0.469502</td>\n",
       "      <td>0.683713</td>\n",
       "      <td>0.729155</td>\n",
       "    </tr>\n",
       "    <tr>\n",
       "      <th>H</th>\n",
       "      <td>0.873982</td>\n",
       "      <td>0.170695</td>\n",
       "      <td>0.317635</td>\n",
       "      <td>0.003499</td>\n",
       "      <td>0.467963</td>\n",
       "      <td>0.297448</td>\n",
       "      <td>0.649227</td>\n",
       "      <td>1.191618</td>\n",
       "    </tr>\n",
       "  </tbody>\n",
       "</table>\n",
       "</div>"
      ],
      "text/plain": [
       "        Sc1       Sc2       Sc3       Sc4       Sc5       Sc6       Sc7  \\\n",
       "B  0.572901  0.046835  0.538890  0.293328  0.230481  0.824555  0.409241   \n",
       "C  0.125329  0.478156  0.491865  0.224052  0.216096  0.441460  0.426723   \n",
       "D  0.167127  0.365165  0.825469  0.215996  0.119130  0.314497  0.604156   \n",
       "E  0.595408  0.554467  0.928439  0.466070  0.570004  0.820732  0.239546   \n",
       "F  0.675163  0.210378  0.696592  0.129543  0.040413  0.793706  0.204617   \n",
       "G  0.571912  0.819112  0.157242  0.563482  0.161405  0.469502  0.683713   \n",
       "H  0.873982  0.170695  0.317635  0.003499  0.467963  0.297448  0.649227   \n",
       "\n",
       "        Sc9  \n",
       "B  1.111791  \n",
       "C  0.617194  \n",
       "D  0.992596  \n",
       "E  1.523847  \n",
       "F  1.371754  \n",
       "G  0.729155  \n",
       "H  1.191618  "
      ]
     },
     "execution_count": 247,
     "metadata": {},
     "output_type": "execute_result"
    }
   ],
   "source": [
    "df.drop('A',axis=0)"
   ]
  },
  {
   "cell_type": "code",
   "execution_count": 267,
   "id": "aa5a5229",
   "metadata": {},
   "outputs": [
    {
     "data": {
      "text/html": [
       "<div>\n",
       "<style scoped>\n",
       "    .dataframe tbody tr th:only-of-type {\n",
       "        vertical-align: middle;\n",
       "    }\n",
       "\n",
       "    .dataframe tbody tr th {\n",
       "        vertical-align: top;\n",
       "    }\n",
       "\n",
       "    .dataframe thead th {\n",
       "        text-align: right;\n",
       "    }\n",
       "</style>\n",
       "<table border=\"1\" class=\"dataframe\">\n",
       "  <thead>\n",
       "    <tr style=\"text-align: right;\">\n",
       "      <th></th>\n",
       "      <th>Sc3</th>\n",
       "      <th>Sc4</th>\n",
       "      <th>Sc5</th>\n",
       "      <th>Sc6</th>\n",
       "      <th>Sc7</th>\n",
       "      <th>Sc9</th>\n",
       "    </tr>\n",
       "  </thead>\n",
       "  <tbody>\n",
       "    <tr>\n",
       "      <th>A</th>\n",
       "      <td>0.692706</td>\n",
       "      <td>0.532051</td>\n",
       "      <td>0.142405</td>\n",
       "      <td>0.515052</td>\n",
       "      <td>0.785464</td>\n",
       "      <td>1.649278</td>\n",
       "    </tr>\n",
       "    <tr>\n",
       "      <th>B</th>\n",
       "      <td>0.538890</td>\n",
       "      <td>0.293328</td>\n",
       "      <td>0.230481</td>\n",
       "      <td>0.824555</td>\n",
       "      <td>0.409241</td>\n",
       "      <td>1.111791</td>\n",
       "    </tr>\n",
       "    <tr>\n",
       "      <th>C</th>\n",
       "      <td>0.491865</td>\n",
       "      <td>0.224052</td>\n",
       "      <td>0.216096</td>\n",
       "      <td>0.441460</td>\n",
       "      <td>0.426723</td>\n",
       "      <td>0.617194</td>\n",
       "    </tr>\n",
       "    <tr>\n",
       "      <th>D</th>\n",
       "      <td>0.825469</td>\n",
       "      <td>0.215996</td>\n",
       "      <td>0.119130</td>\n",
       "      <td>0.314497</td>\n",
       "      <td>0.604156</td>\n",
       "      <td>0.992596</td>\n",
       "    </tr>\n",
       "    <tr>\n",
       "      <th>E</th>\n",
       "      <td>0.928439</td>\n",
       "      <td>0.466070</td>\n",
       "      <td>0.570004</td>\n",
       "      <td>0.820732</td>\n",
       "      <td>0.239546</td>\n",
       "      <td>1.523847</td>\n",
       "    </tr>\n",
       "    <tr>\n",
       "      <th>F</th>\n",
       "      <td>0.696592</td>\n",
       "      <td>0.129543</td>\n",
       "      <td>0.040413</td>\n",
       "      <td>0.793706</td>\n",
       "      <td>0.204617</td>\n",
       "      <td>1.371754</td>\n",
       "    </tr>\n",
       "    <tr>\n",
       "      <th>G</th>\n",
       "      <td>0.157242</td>\n",
       "      <td>0.563482</td>\n",
       "      <td>0.161405</td>\n",
       "      <td>0.469502</td>\n",
       "      <td>0.683713</td>\n",
       "      <td>0.729155</td>\n",
       "    </tr>\n",
       "    <tr>\n",
       "      <th>H</th>\n",
       "      <td>0.317635</td>\n",
       "      <td>0.003499</td>\n",
       "      <td>0.467963</td>\n",
       "      <td>0.297448</td>\n",
       "      <td>0.649227</td>\n",
       "      <td>1.191618</td>\n",
       "    </tr>\n",
       "  </tbody>\n",
       "</table>\n",
       "</div>"
      ],
      "text/plain": [
       "        Sc3       Sc4       Sc5       Sc6       Sc7       Sc9\n",
       "A  0.692706  0.532051  0.142405  0.515052  0.785464  1.649278\n",
       "B  0.538890  0.293328  0.230481  0.824555  0.409241  1.111791\n",
       "C  0.491865  0.224052  0.216096  0.441460  0.426723  0.617194\n",
       "D  0.825469  0.215996  0.119130  0.314497  0.604156  0.992596\n",
       "E  0.928439  0.466070  0.570004  0.820732  0.239546  1.523847\n",
       "F  0.696592  0.129543  0.040413  0.793706  0.204617  1.371754\n",
       "G  0.157242  0.563482  0.161405  0.469502  0.683713  0.729155\n",
       "H  0.317635  0.003499  0.467963  0.297448  0.649227  1.191618"
      ]
     },
     "execution_count": 267,
     "metadata": {},
     "output_type": "execute_result"
    }
   ],
   "source": [
    "df.drop(['Sc1','Sc2'],axis=1)          #dropping two columns simultaneously"
   ]
  },
  {
   "cell_type": "code",
   "execution_count": 273,
   "id": "73791cc4",
   "metadata": {},
   "outputs": [
    {
     "data": {
      "text/html": [
       "<div>\n",
       "<style scoped>\n",
       "    .dataframe tbody tr th:only-of-type {\n",
       "        vertical-align: middle;\n",
       "    }\n",
       "\n",
       "    .dataframe tbody tr th {\n",
       "        vertical-align: top;\n",
       "    }\n",
       "\n",
       "    .dataframe thead th {\n",
       "        text-align: right;\n",
       "    }\n",
       "</style>\n",
       "<table border=\"1\" class=\"dataframe\">\n",
       "  <thead>\n",
       "    <tr style=\"text-align: right;\">\n",
       "      <th></th>\n",
       "      <th>ID</th>\n",
       "      <th>Name</th>\n",
       "      <th>Profit</th>\n",
       "    </tr>\n",
       "  </thead>\n",
       "  <tbody>\n",
       "    <tr>\n",
       "      <th>0</th>\n",
       "      <td>1</td>\n",
       "      <td>ram</td>\n",
       "      <td>123</td>\n",
       "    </tr>\n",
       "    <tr>\n",
       "      <th>1</th>\n",
       "      <td>2</td>\n",
       "      <td>ramu</td>\n",
       "      <td>156</td>\n",
       "    </tr>\n",
       "    <tr>\n",
       "      <th>2</th>\n",
       "      <td>3</td>\n",
       "      <td>raj</td>\n",
       "      <td>148</td>\n",
       "    </tr>\n",
       "    <tr>\n",
       "      <th>3</th>\n",
       "      <td>4</td>\n",
       "      <td>raju</td>\n",
       "      <td>156</td>\n",
       "    </tr>\n",
       "    <tr>\n",
       "      <th>4</th>\n",
       "      <td>5</td>\n",
       "      <td>ramesh</td>\n",
       "      <td>127</td>\n",
       "    </tr>\n",
       "    <tr>\n",
       "      <th>5</th>\n",
       "      <td>6</td>\n",
       "      <td>rakesh</td>\n",
       "      <td>158</td>\n",
       "    </tr>\n",
       "  </tbody>\n",
       "</table>\n",
       "</div>"
      ],
      "text/plain": [
       "   ID    Name  Profit\n",
       "0   1     ram     123\n",
       "1   2    ramu     156\n",
       "2   3     raj     148\n",
       "3   4    raju     156\n",
       "4   5  ramesh     127\n",
       "5   6  rakesh     158"
      ]
     },
     "execution_count": 273,
     "metadata": {},
     "output_type": "execute_result"
    }
   ],
   "source": [
    "df2={'ID':[1,2,3,4,5,6],'Name':['ram','ramu','raj','raju','ramesh','rakesh'],'Profit':[123,156,148,156,127,158]}\n",
    "df1=pd.DataFrame(df2)\n",
    "df1                                      #dictionary"
   ]
  },
  {
   "cell_type": "code",
   "execution_count": 274,
   "id": "4f3ac37b",
   "metadata": {},
   "outputs": [
    {
     "data": {
      "text/html": [
       "<div>\n",
       "<style scoped>\n",
       "    .dataframe tbody tr th:only-of-type {\n",
       "        vertical-align: middle;\n",
       "    }\n",
       "\n",
       "    .dataframe tbody tr th {\n",
       "        vertical-align: top;\n",
       "    }\n",
       "\n",
       "    .dataframe thead th {\n",
       "        text-align: right;\n",
       "    }\n",
       "</style>\n",
       "<table border=\"1\" class=\"dataframe\">\n",
       "  <thead>\n",
       "    <tr style=\"text-align: right;\">\n",
       "      <th></th>\n",
       "      <th>Name</th>\n",
       "      <th>Profit</th>\n",
       "    </tr>\n",
       "  </thead>\n",
       "  <tbody>\n",
       "    <tr>\n",
       "      <th>0</th>\n",
       "      <td>ram</td>\n",
       "      <td>123</td>\n",
       "    </tr>\n",
       "    <tr>\n",
       "      <th>1</th>\n",
       "      <td>ramu</td>\n",
       "      <td>156</td>\n",
       "    </tr>\n",
       "    <tr>\n",
       "      <th>2</th>\n",
       "      <td>raj</td>\n",
       "      <td>148</td>\n",
       "    </tr>\n",
       "    <tr>\n",
       "      <th>3</th>\n",
       "      <td>raju</td>\n",
       "      <td>156</td>\n",
       "    </tr>\n",
       "    <tr>\n",
       "      <th>4</th>\n",
       "      <td>ramesh</td>\n",
       "      <td>127</td>\n",
       "    </tr>\n",
       "    <tr>\n",
       "      <th>5</th>\n",
       "      <td>rakesh</td>\n",
       "      <td>158</td>\n",
       "    </tr>\n",
       "  </tbody>\n",
       "</table>\n",
       "</div>"
      ],
      "text/plain": [
       "     Name  Profit\n",
       "0     ram     123\n",
       "1    ramu     156\n",
       "2     raj     148\n",
       "3    raju     156\n",
       "4  ramesh     127\n",
       "5  rakesh     158"
      ]
     },
     "execution_count": 274,
     "metadata": {},
     "output_type": "execute_result"
    }
   ],
   "source": [
    "df1.drop('ID',axis=1)"
   ]
  },
  {
   "cell_type": "code",
   "execution_count": 275,
   "id": "d18a9cc7",
   "metadata": {},
   "outputs": [
    {
     "data": {
      "text/plain": [
       "0       ram\n",
       "1      ramu\n",
       "2       raj\n",
       "3      raju\n",
       "4    ramesh\n",
       "5    rakesh\n",
       "Name: Name, dtype: object"
      ]
     },
     "execution_count": 275,
     "metadata": {},
     "output_type": "execute_result"
    }
   ],
   "source": [
    "df1['Name']"
   ]
  },
  {
   "cell_type": "code",
   "execution_count": 282,
   "id": "eae6ec9c",
   "metadata": {},
   "outputs": [
    {
     "ename": "FileNotFoundError",
     "evalue": "[Errno 2] No such file or directory: 'abc.csv'",
     "output_type": "error",
     "traceback": [
      "\u001b[1;31m---------------------------------------------------------------------------\u001b[0m",
      "\u001b[1;31mFileNotFoundError\u001b[0m                         Traceback (most recent call last)",
      "\u001b[1;32m~\\AppData\\Local\\Temp/ipykernel_13616/835295299.py\u001b[0m in \u001b[0;36m<module>\u001b[1;34m\u001b[0m\n\u001b[1;32m----> 1\u001b[1;33m \u001b[0mdf3\u001b[0m\u001b[1;33m=\u001b[0m\u001b[0mpd\u001b[0m\u001b[1;33m.\u001b[0m\u001b[0mread_csv\u001b[0m\u001b[1;33m(\u001b[0m\u001b[1;34m'abc.csv'\u001b[0m\u001b[1;33m)\u001b[0m                  \u001b[1;31m# to read cdv file or for excel[pd.read_excel('')]\u001b[0m\u001b[1;33m\u001b[0m\u001b[1;33m\u001b[0m\u001b[0m\n\u001b[0m",
      "\u001b[1;32m~\\anaconda3\\lib\\site-packages\\pandas\\util\\_decorators.py\u001b[0m in \u001b[0;36mwrapper\u001b[1;34m(*args, **kwargs)\u001b[0m\n\u001b[0;32m    309\u001b[0m                     \u001b[0mstacklevel\u001b[0m\u001b[1;33m=\u001b[0m\u001b[0mstacklevel\u001b[0m\u001b[1;33m,\u001b[0m\u001b[1;33m\u001b[0m\u001b[1;33m\u001b[0m\u001b[0m\n\u001b[0;32m    310\u001b[0m                 )\n\u001b[1;32m--> 311\u001b[1;33m             \u001b[1;32mreturn\u001b[0m \u001b[0mfunc\u001b[0m\u001b[1;33m(\u001b[0m\u001b[1;33m*\u001b[0m\u001b[0margs\u001b[0m\u001b[1;33m,\u001b[0m \u001b[1;33m**\u001b[0m\u001b[0mkwargs\u001b[0m\u001b[1;33m)\u001b[0m\u001b[1;33m\u001b[0m\u001b[1;33m\u001b[0m\u001b[0m\n\u001b[0m\u001b[0;32m    312\u001b[0m \u001b[1;33m\u001b[0m\u001b[0m\n\u001b[0;32m    313\u001b[0m         \u001b[1;32mreturn\u001b[0m \u001b[0mwrapper\u001b[0m\u001b[1;33m\u001b[0m\u001b[1;33m\u001b[0m\u001b[0m\n",
      "\u001b[1;32m~\\anaconda3\\lib\\site-packages\\pandas\\io\\parsers\\readers.py\u001b[0m in \u001b[0;36mread_csv\u001b[1;34m(filepath_or_buffer, sep, delimiter, header, names, index_col, usecols, squeeze, prefix, mangle_dupe_cols, dtype, engine, converters, true_values, false_values, skipinitialspace, skiprows, skipfooter, nrows, na_values, keep_default_na, na_filter, verbose, skip_blank_lines, parse_dates, infer_datetime_format, keep_date_col, date_parser, dayfirst, cache_dates, iterator, chunksize, compression, thousands, decimal, lineterminator, quotechar, quoting, doublequote, escapechar, comment, encoding, encoding_errors, dialect, error_bad_lines, warn_bad_lines, on_bad_lines, delim_whitespace, low_memory, memory_map, float_precision, storage_options)\u001b[0m\n\u001b[0;32m    584\u001b[0m     \u001b[0mkwds\u001b[0m\u001b[1;33m.\u001b[0m\u001b[0mupdate\u001b[0m\u001b[1;33m(\u001b[0m\u001b[0mkwds_defaults\u001b[0m\u001b[1;33m)\u001b[0m\u001b[1;33m\u001b[0m\u001b[1;33m\u001b[0m\u001b[0m\n\u001b[0;32m    585\u001b[0m \u001b[1;33m\u001b[0m\u001b[0m\n\u001b[1;32m--> 586\u001b[1;33m     \u001b[1;32mreturn\u001b[0m \u001b[0m_read\u001b[0m\u001b[1;33m(\u001b[0m\u001b[0mfilepath_or_buffer\u001b[0m\u001b[1;33m,\u001b[0m \u001b[0mkwds\u001b[0m\u001b[1;33m)\u001b[0m\u001b[1;33m\u001b[0m\u001b[1;33m\u001b[0m\u001b[0m\n\u001b[0m\u001b[0;32m    587\u001b[0m \u001b[1;33m\u001b[0m\u001b[0m\n\u001b[0;32m    588\u001b[0m \u001b[1;33m\u001b[0m\u001b[0m\n",
      "\u001b[1;32m~\\anaconda3\\lib\\site-packages\\pandas\\io\\parsers\\readers.py\u001b[0m in \u001b[0;36m_read\u001b[1;34m(filepath_or_buffer, kwds)\u001b[0m\n\u001b[0;32m    480\u001b[0m \u001b[1;33m\u001b[0m\u001b[0m\n\u001b[0;32m    481\u001b[0m     \u001b[1;31m# Create the parser.\u001b[0m\u001b[1;33m\u001b[0m\u001b[1;33m\u001b[0m\u001b[0m\n\u001b[1;32m--> 482\u001b[1;33m     \u001b[0mparser\u001b[0m \u001b[1;33m=\u001b[0m \u001b[0mTextFileReader\u001b[0m\u001b[1;33m(\u001b[0m\u001b[0mfilepath_or_buffer\u001b[0m\u001b[1;33m,\u001b[0m \u001b[1;33m**\u001b[0m\u001b[0mkwds\u001b[0m\u001b[1;33m)\u001b[0m\u001b[1;33m\u001b[0m\u001b[1;33m\u001b[0m\u001b[0m\n\u001b[0m\u001b[0;32m    483\u001b[0m \u001b[1;33m\u001b[0m\u001b[0m\n\u001b[0;32m    484\u001b[0m     \u001b[1;32mif\u001b[0m \u001b[0mchunksize\u001b[0m \u001b[1;32mor\u001b[0m \u001b[0miterator\u001b[0m\u001b[1;33m:\u001b[0m\u001b[1;33m\u001b[0m\u001b[1;33m\u001b[0m\u001b[0m\n",
      "\u001b[1;32m~\\anaconda3\\lib\\site-packages\\pandas\\io\\parsers\\readers.py\u001b[0m in \u001b[0;36m__init__\u001b[1;34m(self, f, engine, **kwds)\u001b[0m\n\u001b[0;32m    809\u001b[0m             \u001b[0mself\u001b[0m\u001b[1;33m.\u001b[0m\u001b[0moptions\u001b[0m\u001b[1;33m[\u001b[0m\u001b[1;34m\"has_index_names\"\u001b[0m\u001b[1;33m]\u001b[0m \u001b[1;33m=\u001b[0m \u001b[0mkwds\u001b[0m\u001b[1;33m[\u001b[0m\u001b[1;34m\"has_index_names\"\u001b[0m\u001b[1;33m]\u001b[0m\u001b[1;33m\u001b[0m\u001b[1;33m\u001b[0m\u001b[0m\n\u001b[0;32m    810\u001b[0m \u001b[1;33m\u001b[0m\u001b[0m\n\u001b[1;32m--> 811\u001b[1;33m         \u001b[0mself\u001b[0m\u001b[1;33m.\u001b[0m\u001b[0m_engine\u001b[0m \u001b[1;33m=\u001b[0m \u001b[0mself\u001b[0m\u001b[1;33m.\u001b[0m\u001b[0m_make_engine\u001b[0m\u001b[1;33m(\u001b[0m\u001b[0mself\u001b[0m\u001b[1;33m.\u001b[0m\u001b[0mengine\u001b[0m\u001b[1;33m)\u001b[0m\u001b[1;33m\u001b[0m\u001b[1;33m\u001b[0m\u001b[0m\n\u001b[0m\u001b[0;32m    812\u001b[0m \u001b[1;33m\u001b[0m\u001b[0m\n\u001b[0;32m    813\u001b[0m     \u001b[1;32mdef\u001b[0m \u001b[0mclose\u001b[0m\u001b[1;33m(\u001b[0m\u001b[0mself\u001b[0m\u001b[1;33m)\u001b[0m\u001b[1;33m:\u001b[0m\u001b[1;33m\u001b[0m\u001b[1;33m\u001b[0m\u001b[0m\n",
      "\u001b[1;32m~\\anaconda3\\lib\\site-packages\\pandas\\io\\parsers\\readers.py\u001b[0m in \u001b[0;36m_make_engine\u001b[1;34m(self, engine)\u001b[0m\n\u001b[0;32m   1038\u001b[0m             )\n\u001b[0;32m   1039\u001b[0m         \u001b[1;31m# error: Too many arguments for \"ParserBase\"\u001b[0m\u001b[1;33m\u001b[0m\u001b[1;33m\u001b[0m\u001b[0m\n\u001b[1;32m-> 1040\u001b[1;33m         \u001b[1;32mreturn\u001b[0m \u001b[0mmapping\u001b[0m\u001b[1;33m[\u001b[0m\u001b[0mengine\u001b[0m\u001b[1;33m]\u001b[0m\u001b[1;33m(\u001b[0m\u001b[0mself\u001b[0m\u001b[1;33m.\u001b[0m\u001b[0mf\u001b[0m\u001b[1;33m,\u001b[0m \u001b[1;33m**\u001b[0m\u001b[0mself\u001b[0m\u001b[1;33m.\u001b[0m\u001b[0moptions\u001b[0m\u001b[1;33m)\u001b[0m  \u001b[1;31m# type: ignore[call-arg]\u001b[0m\u001b[1;33m\u001b[0m\u001b[1;33m\u001b[0m\u001b[0m\n\u001b[0m\u001b[0;32m   1041\u001b[0m \u001b[1;33m\u001b[0m\u001b[0m\n\u001b[0;32m   1042\u001b[0m     \u001b[1;32mdef\u001b[0m \u001b[0m_failover_to_python\u001b[0m\u001b[1;33m(\u001b[0m\u001b[0mself\u001b[0m\u001b[1;33m)\u001b[0m\u001b[1;33m:\u001b[0m\u001b[1;33m\u001b[0m\u001b[1;33m\u001b[0m\u001b[0m\n",
      "\u001b[1;32m~\\anaconda3\\lib\\site-packages\\pandas\\io\\parsers\\c_parser_wrapper.py\u001b[0m in \u001b[0;36m__init__\u001b[1;34m(self, src, **kwds)\u001b[0m\n\u001b[0;32m     49\u001b[0m \u001b[1;33m\u001b[0m\u001b[0m\n\u001b[0;32m     50\u001b[0m         \u001b[1;31m# open handles\u001b[0m\u001b[1;33m\u001b[0m\u001b[1;33m\u001b[0m\u001b[0m\n\u001b[1;32m---> 51\u001b[1;33m         \u001b[0mself\u001b[0m\u001b[1;33m.\u001b[0m\u001b[0m_open_handles\u001b[0m\u001b[1;33m(\u001b[0m\u001b[0msrc\u001b[0m\u001b[1;33m,\u001b[0m \u001b[0mkwds\u001b[0m\u001b[1;33m)\u001b[0m\u001b[1;33m\u001b[0m\u001b[1;33m\u001b[0m\u001b[0m\n\u001b[0m\u001b[0;32m     52\u001b[0m         \u001b[1;32massert\u001b[0m \u001b[0mself\u001b[0m\u001b[1;33m.\u001b[0m\u001b[0mhandles\u001b[0m \u001b[1;32mis\u001b[0m \u001b[1;32mnot\u001b[0m \u001b[1;32mNone\u001b[0m\u001b[1;33m\u001b[0m\u001b[1;33m\u001b[0m\u001b[0m\n\u001b[0;32m     53\u001b[0m \u001b[1;33m\u001b[0m\u001b[0m\n",
      "\u001b[1;32m~\\anaconda3\\lib\\site-packages\\pandas\\io\\parsers\\base_parser.py\u001b[0m in \u001b[0;36m_open_handles\u001b[1;34m(self, src, kwds)\u001b[0m\n\u001b[0;32m    220\u001b[0m         \u001b[0mLet\u001b[0m \u001b[0mthe\u001b[0m \u001b[0mreaders\u001b[0m \u001b[0mopen\u001b[0m \u001b[0mIOHandles\u001b[0m \u001b[0mafter\u001b[0m \u001b[0mthey\u001b[0m \u001b[0mare\u001b[0m \u001b[0mdone\u001b[0m \u001b[1;32mwith\u001b[0m \u001b[0mtheir\u001b[0m \u001b[0mpotential\u001b[0m \u001b[0mraises\u001b[0m\u001b[1;33m.\u001b[0m\u001b[1;33m\u001b[0m\u001b[1;33m\u001b[0m\u001b[0m\n\u001b[0;32m    221\u001b[0m         \"\"\"\n\u001b[1;32m--> 222\u001b[1;33m         self.handles = get_handle(\n\u001b[0m\u001b[0;32m    223\u001b[0m             \u001b[0msrc\u001b[0m\u001b[1;33m,\u001b[0m\u001b[1;33m\u001b[0m\u001b[1;33m\u001b[0m\u001b[0m\n\u001b[0;32m    224\u001b[0m             \u001b[1;34m\"r\"\u001b[0m\u001b[1;33m,\u001b[0m\u001b[1;33m\u001b[0m\u001b[1;33m\u001b[0m\u001b[0m\n",
      "\u001b[1;32m~\\anaconda3\\lib\\site-packages\\pandas\\io\\common.py\u001b[0m in \u001b[0;36mget_handle\u001b[1;34m(path_or_buf, mode, encoding, compression, memory_map, is_text, errors, storage_options)\u001b[0m\n\u001b[0;32m    700\u001b[0m         \u001b[1;32mif\u001b[0m \u001b[0mioargs\u001b[0m\u001b[1;33m.\u001b[0m\u001b[0mencoding\u001b[0m \u001b[1;32mand\u001b[0m \u001b[1;34m\"b\"\u001b[0m \u001b[1;32mnot\u001b[0m \u001b[1;32min\u001b[0m \u001b[0mioargs\u001b[0m\u001b[1;33m.\u001b[0m\u001b[0mmode\u001b[0m\u001b[1;33m:\u001b[0m\u001b[1;33m\u001b[0m\u001b[1;33m\u001b[0m\u001b[0m\n\u001b[0;32m    701\u001b[0m             \u001b[1;31m# Encoding\u001b[0m\u001b[1;33m\u001b[0m\u001b[1;33m\u001b[0m\u001b[0m\n\u001b[1;32m--> 702\u001b[1;33m             handle = open(\n\u001b[0m\u001b[0;32m    703\u001b[0m                 \u001b[0mhandle\u001b[0m\u001b[1;33m,\u001b[0m\u001b[1;33m\u001b[0m\u001b[1;33m\u001b[0m\u001b[0m\n\u001b[0;32m    704\u001b[0m                 \u001b[0mioargs\u001b[0m\u001b[1;33m.\u001b[0m\u001b[0mmode\u001b[0m\u001b[1;33m,\u001b[0m\u001b[1;33m\u001b[0m\u001b[1;33m\u001b[0m\u001b[0m\n",
      "\u001b[1;31mFileNotFoundError\u001b[0m: [Errno 2] No such file or directory: 'abc.csv'"
     ]
    }
   ],
   "source": [
    "df3=pd.read_csv('abc.csv')                  # to read cdv file or for excel[pd.read_excel('')]"
   ]
  },
  {
   "cell_type": "code",
   "execution_count": 283,
   "id": "cb338154",
   "metadata": {},
   "outputs": [
    {
     "ename": "NameError",
     "evalue": "name 'df3' is not defined",
     "output_type": "error",
     "traceback": [
      "\u001b[1;31m---------------------------------------------------------------------------\u001b[0m",
      "\u001b[1;31mNameError\u001b[0m                                 Traceback (most recent call last)",
      "\u001b[1;32m~\\AppData\\Local\\Temp/ipykernel_13616/1849385759.py\u001b[0m in \u001b[0;36m<module>\u001b[1;34m\u001b[0m\n\u001b[1;32m----> 1\u001b[1;33m \u001b[0mdf3\u001b[0m\u001b[1;33m.\u001b[0m\u001b[0mhead\u001b[0m\u001b[1;33m\u001b[0m\u001b[1;33m\u001b[0m\u001b[0m\n\u001b[0m",
      "\u001b[1;31mNameError\u001b[0m: name 'df3' is not defined"
     ]
    }
   ],
   "source": [
    "df3.head"
   ]
  },
  {
   "cell_type": "markdown",
   "id": "b74a1818",
   "metadata": {},
   "source": [
    "### Assignment"
   ]
  },
  {
   "cell_type": "code",
   "execution_count": 287,
   "id": "a90deee5",
   "metadata": {},
   "outputs": [
    {
     "data": {
      "text/plain": [
       "array([0, 0, 0, 0, 0, 0, 0, 0, 0, 0])"
      ]
     },
     "execution_count": 287,
     "metadata": {},
     "output_type": "execute_result"
    }
   ],
   "source": [
    "nv=np.zeros(10,dtype=int)                #null vector size 10\n",
    "nv"
   ]
  },
  {
   "cell_type": "code",
   "execution_count": 289,
   "id": "1194dacb",
   "metadata": {},
   "outputs": [
    {
     "data": {
      "text/plain": [
       "array([0, 0, 0, 0, 1, 0, 0, 0, 0, 0])"
      ]
     },
     "execution_count": 289,
     "metadata": {},
     "output_type": "execute_result"
    }
   ],
   "source": [
    "nv[4]=1\n",
    "nv"
   ]
  },
  {
   "cell_type": "code",
   "execution_count": 302,
   "id": "2b357037",
   "metadata": {},
   "outputs": [
    {
     "data": {
      "text/plain": [
       "array([10, 11, 12, 13, 14, 15, 16, 17, 18, 19, 20, 21, 22, 23, 24, 25, 26,\n",
       "       27, 28, 29, 30, 31, 32, 33, 34, 35, 36, 37, 38, 39, 40, 41, 42, 43,\n",
       "       44, 45, 46, 47, 48, 49, 50, 51, 52, 53, 54, 55, 56, 57, 58, 59, 60,\n",
       "       61, 62, 63, 64])"
      ]
     },
     "execution_count": 302,
     "metadata": {},
     "output_type": "execute_result"
    }
   ],
   "source": [
    "nv1=np.arange(10,65)\n",
    "nv1"
   ]
  },
  {
   "cell_type": "code",
   "execution_count": 310,
   "id": "05f48343",
   "metadata": {},
   "outputs": [
    {
     "data": {
      "text/plain": [
       "array([64, 63, 62, 61, 60, 59, 58, 57, 56, 55, 54, 53, 52, 51, 50, 49, 48,\n",
       "       47, 46, 45, 44, 43, 42, 41, 40, 39, 38, 37, 36, 35, 34, 33, 32, 31,\n",
       "       30, 29, 28, 27, 26, 25, 24, 23, 22, 21, 20, 19, 18, 17, 16, 15, 14,\n",
       "       13, 12, 11, 10])"
      ]
     },
     "execution_count": 310,
     "metadata": {},
     "output_type": "execute_result"
    }
   ],
   "source": [
    "nv1=np.arange(64,9,-1)\n",
    "nv1                               #reverse of above matrix/list"
   ]
  },
  {
   "cell_type": "code",
   "execution_count": 313,
   "id": "b28c7de2",
   "metadata": {},
   "outputs": [
    {
     "data": {
      "text/plain": [
       "array([[0, 1, 2],\n",
       "       [3, 4, 5],\n",
       "       [6, 7, 8]])"
      ]
     },
     "execution_count": 313,
     "metadata": {},
     "output_type": "execute_result"
    }
   ],
   "source": [
    "nv2=np.arange(0,9).reshape(3,3)\n",
    "nv2"
   ]
  },
  {
   "cell_type": "code",
   "execution_count": null,
   "id": "1d2a4888",
   "metadata": {},
   "outputs": [],
   "source": []
  }
 ],
 "metadata": {
  "kernelspec": {
   "display_name": "Python 3 (ipykernel)",
   "language": "python",
   "name": "python3"
  },
  "language_info": {
   "codemirror_mode": {
    "name": "ipython",
    "version": 3
   },
   "file_extension": ".py",
   "mimetype": "text/x-python",
   "name": "python",
   "nbconvert_exporter": "python",
   "pygments_lexer": "ipython3",
   "version": "3.9.7"
  }
 },
 "nbformat": 4,
 "nbformat_minor": 5
}
